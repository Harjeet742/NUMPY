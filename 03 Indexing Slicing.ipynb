{
 "cells": [
  {
   "cell_type": "code",
   "execution_count": 1,
   "id": "0fe435d0-f611-4453-bbf9-9de87dc6fb55",
   "metadata": {},
   "outputs": [],
   "source": [
    "import numpy as np"
   ]
  },
  {
   "cell_type": "code",
   "execution_count": 4,
   "id": "5aaa5f85-7b15-406f-a5bc-8f08fcb9799e",
   "metadata": {},
   "outputs": [],
   "source": [
    "# seed function helps to retreive the same value in every system's array"
   ]
  },
  {
   "cell_type": "markdown",
   "id": "577dd2ec-a1ec-4cef-9189-1209b4f5e57e",
   "metadata": {},
   "source": [
    "## indexing"
   ]
  },
  {
   "cell_type": "code",
   "execution_count": 15,
   "id": "bddab1e4-95f9-4d57-a796-f978233723ac",
   "metadata": {},
   "outputs": [],
   "source": [
    "np.random.seed(50)"
   ]
  },
  {
   "cell_type": "code",
   "execution_count": 16,
   "id": "5694d52b-aeae-417d-b610-6366e2aa00c0",
   "metadata": {},
   "outputs": [],
   "source": [
    "arr = np.random.randint(1,20, (3,3))"
   ]
  },
  {
   "cell_type": "code",
   "execution_count": 17,
   "id": "45f36c5e-ea5e-4c3f-bf29-844d1485d917",
   "metadata": {},
   "outputs": [
    {
     "data": {
      "text/plain": [
       "array([[17,  1, 12],\n",
       "       [14,  2,  5],\n",
       "       [ 7,  6,  7]], dtype=int32)"
      ]
     },
     "execution_count": 17,
     "metadata": {},
     "output_type": "execute_result"
    }
   ],
   "source": [
    "arr"
   ]
  },
  {
   "cell_type": "code",
   "execution_count": 18,
   "id": "0236ae25-5077-44d6-870d-91ca3c5315db",
   "metadata": {},
   "outputs": [
    {
     "data": {
      "text/plain": [
       "array([7, 6, 7], dtype=int32)"
      ]
     },
     "execution_count": 18,
     "metadata": {},
     "output_type": "execute_result"
    }
   ],
   "source": [
    "arr[2]"
   ]
  },
  {
   "cell_type": "code",
   "execution_count": 20,
   "id": "18220f86-7d37-4b73-aad1-623700fbb8e6",
   "metadata": {},
   "outputs": [
    {
     "data": {
      "text/plain": [
       "np.int32(7)"
      ]
     },
     "execution_count": 20,
     "metadata": {},
     "output_type": "execute_result"
    }
   ],
   "source": [
    "arr[2][0]"
   ]
  },
  {
   "cell_type": "code",
   "execution_count": 21,
   "id": "8b173b6e-f3f5-46cb-a305-39f989262c18",
   "metadata": {},
   "outputs": [
    {
     "data": {
      "text/plain": [
       "array([[17,  1, 12],\n",
       "       [14,  2,  5],\n",
       "       [ 7,  6,  7]], dtype=int32)"
      ]
     },
     "execution_count": 21,
     "metadata": {},
     "output_type": "execute_result"
    }
   ],
   "source": [
    "arr"
   ]
  },
  {
   "cell_type": "code",
   "execution_count": 22,
   "id": "747b63c1-e6ab-47da-b2ed-f0aeb24d1178",
   "metadata": {},
   "outputs": [],
   "source": [
    "arr = np.random.randint(1,20,(3,5,4))"
   ]
  },
  {
   "cell_type": "code",
   "execution_count": 23,
   "id": "bf6b9ad5-b7f1-47d7-8e87-32fda3d691b8",
   "metadata": {},
   "outputs": [
    {
     "data": {
      "text/plain": [
       "array([[[14,  6,  3,  8],\n",
       "        [16,  5, 15,  4],\n",
       "        [ 7, 12, 18, 11],\n",
       "        [10,  1,  7,  3],\n",
       "        [16, 10,  4,  3]],\n",
       "\n",
       "       [[13,  1,  4,  3],\n",
       "        [11, 17, 15,  1],\n",
       "        [ 1, 12,  8, 15],\n",
       "        [14,  8,  5,  5],\n",
       "        [ 1, 12,  1, 14]],\n",
       "\n",
       "       [[14,  2, 10, 12],\n",
       "        [ 6,  1, 16,  6],\n",
       "        [ 7,  2,  5,  5],\n",
       "        [13, 15,  5, 12],\n",
       "        [ 1,  6,  9, 13]]], dtype=int32)"
      ]
     },
     "execution_count": 23,
     "metadata": {},
     "output_type": "execute_result"
    }
   ],
   "source": [
    "arr"
   ]
  },
  {
   "cell_type": "code",
   "execution_count": 24,
   "id": "d454102e-fd6d-4eb4-add2-a45ab5123e86",
   "metadata": {},
   "outputs": [
    {
     "data": {
      "text/plain": [
       "array([[13,  1,  4,  3],\n",
       "       [11, 17, 15,  1],\n",
       "       [ 1, 12,  8, 15],\n",
       "       [14,  8,  5,  5],\n",
       "       [ 1, 12,  1, 14]], dtype=int32)"
      ]
     },
     "execution_count": 24,
     "metadata": {},
     "output_type": "execute_result"
    }
   ],
   "source": [
    "arr[1]"
   ]
  },
  {
   "cell_type": "code",
   "execution_count": 26,
   "id": "1cee76bb-bcc4-4594-a209-ca9ad4e93ae3",
   "metadata": {},
   "outputs": [
    {
     "data": {
      "text/plain": [
       "np.int32(5)"
      ]
     },
     "execution_count": 26,
     "metadata": {},
     "output_type": "execute_result"
    }
   ],
   "source": [
    "arr[1,3,2]"
   ]
  },
  {
   "cell_type": "code",
   "execution_count": 28,
   "id": "d7c3503f-fa8b-4db5-9aa1-848db3108c1b",
   "metadata": {},
   "outputs": [
    {
     "data": {
      "text/plain": [
       "array([[14,  6,  3,  8],\n",
       "       [16,  5, 15,  4],\n",
       "       [ 7, 12, 18, 11],\n",
       "       [10,  1,  7,  3],\n",
       "       [16, 10,  4,  3]], dtype=int32)"
      ]
     },
     "execution_count": 28,
     "metadata": {},
     "output_type": "execute_result"
    }
   ],
   "source": [
    "arr[0]"
   ]
  },
  {
   "cell_type": "code",
   "execution_count": 29,
   "id": "671c1984-43d1-41ae-99c1-24ba910b6212",
   "metadata": {},
   "outputs": [
    {
     "data": {
      "text/plain": [
       "array([ 7, 12, 18, 11], dtype=int32)"
      ]
     },
     "execution_count": 29,
     "metadata": {},
     "output_type": "execute_result"
    }
   ],
   "source": [
    "arr[0][2]"
   ]
  },
  {
   "cell_type": "code",
   "execution_count": 30,
   "id": "efa6d003-9b7b-4704-8d6d-7ea31a9fe481",
   "metadata": {},
   "outputs": [
    {
     "data": {
      "text/plain": [
       "np.int32(11)"
      ]
     },
     "execution_count": 30,
     "metadata": {},
     "output_type": "execute_result"
    }
   ],
   "source": [
    "arr[0][2][3]"
   ]
  },
  {
   "cell_type": "markdown",
   "id": "80786fb2-ec36-4e1c-bef7-fa70d52fbf76",
   "metadata": {},
   "source": [
    "## Slicing"
   ]
  },
  {
   "cell_type": "code",
   "execution_count": 33,
   "id": "24e94233-db1d-4278-8da9-5d544e769702",
   "metadata": {},
   "outputs": [],
   "source": [
    "arr = np.random.randint(1,20, (5,5))"
   ]
  },
  {
   "cell_type": "code",
   "execution_count": 34,
   "id": "8ab9ad1b-201b-4c0b-ae89-2662b91167e1",
   "metadata": {},
   "outputs": [
    {
     "data": {
      "text/plain": [
       "array([[ 7, 16,  1, 19, 12],\n",
       "       [ 2, 18, 15, 15,  6],\n",
       "       [ 7, 10,  5, 10,  1],\n",
       "       [16, 17, 18, 17,  5],\n",
       "       [12,  2,  6, 14,  4]], dtype=int32)"
      ]
     },
     "execution_count": 34,
     "metadata": {},
     "output_type": "execute_result"
    }
   ],
   "source": [
    "arr"
   ]
  },
  {
   "cell_type": "code",
   "execution_count": 38,
   "id": "33a9cf16-2695-445a-86b5-f65df71f36e7",
   "metadata": {},
   "outputs": [
    {
     "data": {
      "text/plain": [
       "array([[ 7, 10,  5, 10,  1],\n",
       "       [16, 17, 18, 17,  5]], dtype=int32)"
      ]
     },
     "execution_count": 38,
     "metadata": {},
     "output_type": "execute_result"
    }
   ],
   "source": [
    "arr[2:4]"
   ]
  },
  {
   "cell_type": "code",
   "execution_count": 39,
   "id": "ea1ba694-2927-4206-8fcb-7fc1ad19b599",
   "metadata": {},
   "outputs": [
    {
     "data": {
      "text/plain": [
       "array([[10,  5],\n",
       "       [17, 18]], dtype=int32)"
      ]
     },
     "execution_count": 39,
     "metadata": {},
     "output_type": "execute_result"
    }
   ],
   "source": [
    "arr[2:4, 1:3]"
   ]
  },
  {
   "cell_type": "code",
   "execution_count": 40,
   "id": "427ab0ed-849c-4647-b5d5-d84110c84e2b",
   "metadata": {},
   "outputs": [
    {
     "data": {
      "text/plain": [
       "array([[12,  2,  6, 14,  4],\n",
       "       [16, 17, 18, 17,  5],\n",
       "       [ 7, 10,  5, 10,  1],\n",
       "       [ 2, 18, 15, 15,  6],\n",
       "       [ 7, 16,  1, 19, 12]], dtype=int32)"
      ]
     },
     "execution_count": 40,
     "metadata": {},
     "output_type": "execute_result"
    }
   ],
   "source": [
    "arr[::-1]"
   ]
  },
  {
   "cell_type": "code",
   "execution_count": 41,
   "id": "cd05a293-cde3-443e-9e23-dd69c4d24708",
   "metadata": {},
   "outputs": [
    {
     "data": {
      "text/plain": [
       "array([[ 7, 16,  1, 19, 12],\n",
       "       [ 2, 18, 15, 15,  6],\n",
       "       [ 7, 10,  5, 10,  1],\n",
       "       [16, 17, 18, 17,  5],\n",
       "       [12,  2,  6, 14,  4]], dtype=int32)"
      ]
     },
     "execution_count": 41,
     "metadata": {},
     "output_type": "execute_result"
    }
   ],
   "source": [
    "arr"
   ]
  },
  {
   "cell_type": "code",
   "execution_count": 56,
   "id": "f67ac83f-1d62-430e-b09a-500a0786e00a",
   "metadata": {},
   "outputs": [
    {
     "data": {
      "text/plain": [
       "array([[10,  5, 10],\n",
       "       [17, 18, 17]], dtype=int32)"
      ]
     },
     "execution_count": 56,
     "metadata": {},
     "output_type": "execute_result"
    }
   ],
   "source": [
    "arr[2:4, 1:4]"
   ]
  },
  {
   "cell_type": "code",
   "execution_count": 57,
   "id": "9dc21362-da1f-441b-875a-071dbdaeef99",
   "metadata": {},
   "outputs": [
    {
     "data": {
      "text/plain": [
       "array([[ 7, 16,  1, 19, 12],\n",
       "       [ 2, 18, 15, 15,  6],\n",
       "       [ 7, 10,  5, 10,  1],\n",
       "       [16, 17, 18, 17,  5],\n",
       "       [12,  2,  6, 14,  4]], dtype=int32)"
      ]
     },
     "execution_count": 57,
     "metadata": {},
     "output_type": "execute_result"
    }
   ],
   "source": [
    "arr"
   ]
  },
  {
   "cell_type": "code",
   "execution_count": 60,
   "id": "6495c7e0-8bb7-4ea3-9237-a1c547b4336e",
   "metadata": {},
   "outputs": [
    {
     "data": {
      "text/plain": [
       "array([[ 7, 16,  1, 19],\n",
       "       [ 2, 18, 15, 15],\n",
       "       [ 7, 10,  5, 10],\n",
       "       [16, 17, 18, 17],\n",
       "       [12,  2,  6, 14]], dtype=int32)"
      ]
     },
     "execution_count": 60,
     "metadata": {},
     "output_type": "execute_result"
    }
   ],
   "source": [
    "arr[:,0:4]"
   ]
  },
  {
   "cell_type": "code",
   "execution_count": 63,
   "id": "b9b5ef1e-1315-4a61-ae36-16d83169d924",
   "metadata": {},
   "outputs": [],
   "source": [
    "arr[-1,1] = -19"
   ]
  },
  {
   "cell_type": "code",
   "execution_count": 64,
   "id": "526fefef-ac90-4fc5-a678-4bc3606c4067",
   "metadata": {},
   "outputs": [
    {
     "data": {
      "text/plain": [
       "array([[  7,  16,   1,  19,  12],\n",
       "       [  2,  18,  15,  15,   6],\n",
       "       [  7,  10,   5,  10,   1],\n",
       "       [ 16,  17,  18,  17,   5],\n",
       "       [ 12, -19,   6,  14,   4]], dtype=int32)"
      ]
     },
     "execution_count": 64,
     "metadata": {},
     "output_type": "execute_result"
    }
   ],
   "source": [
    "arr"
   ]
  },
  {
   "cell_type": "code",
   "execution_count": 65,
   "id": "e6080602-4749-4971-ac00-c383a71eab9d",
   "metadata": {},
   "outputs": [
    {
     "data": {
      "text/plain": [
       "array([ 12, -19,   6,  14,   4], dtype=int32)"
      ]
     },
     "execution_count": 65,
     "metadata": {},
     "output_type": "execute_result"
    }
   ],
   "source": [
    "arr[-1]"
   ]
  },
  {
   "cell_type": "code",
   "execution_count": 69,
   "id": "a6ef6ae0-9c7d-4fa0-959e-74237156643d",
   "metadata": {},
   "outputs": [
    {
     "data": {
      "text/plain": [
       "array([16, 17, 18, 17,  5], dtype=int32)"
      ]
     },
     "execution_count": 69,
     "metadata": {},
     "output_type": "execute_result"
    }
   ],
   "source": [
    "arr[-2]"
   ]
  },
  {
   "cell_type": "code",
   "execution_count": 70,
   "id": "1dcf2702-5878-4058-a70e-02ed65b96c28",
   "metadata": {},
   "outputs": [],
   "source": [
    "arr[-2, 2] = -4"
   ]
  },
  {
   "cell_type": "code",
   "execution_count": 71,
   "id": "59f98739-114a-43ef-8834-3d3c6c152cdd",
   "metadata": {},
   "outputs": [
    {
     "data": {
      "text/plain": [
       "array([[  7,  16,   1,  19,  12],\n",
       "       [  2,  18,  15,  15,   6],\n",
       "       [  7,  10,   5,  10,   1],\n",
       "       [ 16,  17,  -4,  17,   5],\n",
       "       [ 12, -19,   6,  14,   4]], dtype=int32)"
      ]
     },
     "execution_count": 71,
     "metadata": {},
     "output_type": "execute_result"
    }
   ],
   "source": [
    "arr"
   ]
  },
  {
   "cell_type": "code",
   "execution_count": 72,
   "id": "4f372a3c-4397-42d1-a6a3-f7b94418e1d2",
   "metadata": {},
   "outputs": [
    {
     "data": {
      "text/plain": [
       "array([[  7,  16,   1,  19,  12],\n",
       "       [  2,  18,  15,  15,   6],\n",
       "       [  7,  10,   5,  10,   1],\n",
       "       [ 16,  17,  -4,  17,   5],\n",
       "       [ 12, -19,   6,  14,   4]], dtype=int32)"
      ]
     },
     "execution_count": 72,
     "metadata": {},
     "output_type": "execute_result"
    }
   ],
   "source": [
    "arr"
   ]
  },
  {
   "cell_type": "code",
   "execution_count": 73,
   "id": "02c4511d-241f-431a-805f-6b94044b9f27",
   "metadata": {},
   "outputs": [
    {
     "data": {
      "text/plain": [
       "array([[  7,  10,   5,  10,   1],\n",
       "       [ 16,  17,  -4,  17,   5],\n",
       "       [ 12, -19,   6,  14,   4]], dtype=int32)"
      ]
     },
     "execution_count": 73,
     "metadata": {},
     "output_type": "execute_result"
    }
   ],
   "source": [
    "arr[2:]"
   ]
  },
  {
   "cell_type": "code",
   "execution_count": 76,
   "id": "c11d9d3c-70e3-487f-aae0-b38dc5fdfa56",
   "metadata": {},
   "outputs": [],
   "source": [
    "arr[2:, 0:2] = 5"
   ]
  },
  {
   "cell_type": "code",
   "execution_count": 77,
   "id": "29b2f710-681e-4753-ac3a-295020e0c39e",
   "metadata": {},
   "outputs": [
    {
     "data": {
      "text/plain": [
       "array([[ 7, 16,  1, 19, 12],\n",
       "       [ 2, 18, 15, 15,  6],\n",
       "       [ 5,  5,  5, 10,  1],\n",
       "       [ 5,  5, -4, 17,  5],\n",
       "       [ 5,  5,  6, 14,  4]], dtype=int32)"
      ]
     },
     "execution_count": 77,
     "metadata": {},
     "output_type": "execute_result"
    }
   ],
   "source": [
    "arr"
   ]
  },
  {
   "cell_type": "code",
   "execution_count": 81,
   "id": "412ac53c-5f46-4770-b43d-4a7a6ffe1e92",
   "metadata": {},
   "outputs": [
    {
     "data": {
      "text/plain": [
       "array([17, 14], dtype=int32)"
      ]
     },
     "execution_count": 81,
     "metadata": {},
     "output_type": "execute_result"
    }
   ],
   "source": [
    "arr[-2:, -2]"
   ]
  },
  {
   "cell_type": "code",
   "execution_count": 85,
   "id": "95e4ba32-2fe5-4e22-a1ef-0d1e0fb6e604",
   "metadata": {},
   "outputs": [
    {
     "data": {
      "text/plain": [
       "array([[17,  5],\n",
       "       [14,  4]], dtype=int32)"
      ]
     },
     "execution_count": 85,
     "metadata": {},
     "output_type": "execute_result"
    }
   ],
   "source": [
    "arr[-2:, -2:]"
   ]
  },
  {
   "cell_type": "code",
   "execution_count": 86,
   "id": "a2fb49e8-7fd7-425d-92ae-62a9fbeeb8dc",
   "metadata": {},
   "outputs": [],
   "source": [
    "a = arr[-2:, -2:]"
   ]
  },
  {
   "cell_type": "code",
   "execution_count": 87,
   "id": "cac4822a-9aa5-47e3-b092-e960a4cb6f96",
   "metadata": {},
   "outputs": [
    {
     "data": {
      "text/plain": [
       "array([[17,  5],\n",
       "       [14,  4]], dtype=int32)"
      ]
     },
     "execution_count": 87,
     "metadata": {},
     "output_type": "execute_result"
    }
   ],
   "source": [
    "a"
   ]
  },
  {
   "cell_type": "code",
   "execution_count": 90,
   "id": "52636d85-13e8-4cc1-a12f-14190588104b",
   "metadata": {},
   "outputs": [
    {
     "data": {
      "text/plain": [
       "array([17,  5], dtype=int32)"
      ]
     },
     "execution_count": 90,
     "metadata": {},
     "output_type": "execute_result"
    }
   ],
   "source": [
    "a[0]"
   ]
  },
  {
   "cell_type": "code",
   "execution_count": 91,
   "id": "7b8a7e64-a105-4eb1-9af7-73e8c214354e",
   "metadata": {},
   "outputs": [
    {
     "data": {
      "text/plain": [
       "np.int32(5)"
      ]
     },
     "execution_count": 91,
     "metadata": {},
     "output_type": "execute_result"
    }
   ],
   "source": [
    "a[0, -1]"
   ]
  },
  {
   "cell_type": "code",
   "execution_count": 92,
   "id": "e6fa1adb-9100-478e-8a0b-93aa896989de",
   "metadata": {},
   "outputs": [],
   "source": [
    "a[0, -1]= 100"
   ]
  },
  {
   "cell_type": "code",
   "execution_count": 93,
   "id": "ce415829-ba60-4ca0-9c68-b774629abd2d",
   "metadata": {},
   "outputs": [
    {
     "data": {
      "text/plain": [
       "array([[ 17, 100],\n",
       "       [ 14,   4]], dtype=int32)"
      ]
     },
     "execution_count": 93,
     "metadata": {},
     "output_type": "execute_result"
    }
   ],
   "source": [
    "a"
   ]
  },
  {
   "cell_type": "code",
   "execution_count": 94,
   "id": "ac5befb0-ab6f-4a3d-afd0-b88d8f2b71cc",
   "metadata": {},
   "outputs": [
    {
     "data": {
      "text/plain": [
       "array([[  7,  16,   1,  19,  12],\n",
       "       [  2,  18,  15,  15,   6],\n",
       "       [  5,   5,   5,  10,   1],\n",
       "       [  5,   5,  -4,  17, 100],\n",
       "       [  5,   5,   6,  14,   4]], dtype=int32)"
      ]
     },
     "execution_count": 94,
     "metadata": {},
     "output_type": "execute_result"
    }
   ],
   "source": [
    "arr"
   ]
  },
  {
   "cell_type": "code",
   "execution_count": 101,
   "id": "3b17faa2-9699-4d91-bd21-56a31627a246",
   "metadata": {},
   "outputs": [],
   "source": [
    "arr = np.arange(9)\n",
    "arr = arr.reshape(3,3)"
   ]
  },
  {
   "cell_type": "code",
   "execution_count": 102,
   "id": "bf219399-52d4-4a94-8f01-72bd3f8bb95b",
   "metadata": {},
   "outputs": [],
   "source": [
    "a= arr"
   ]
  },
  {
   "cell_type": "code",
   "execution_count": 103,
   "id": "6bb84c89-0cb0-4fe9-99cd-aaada33d6a08",
   "metadata": {},
   "outputs": [],
   "source": [
    "b= arr.copy()"
   ]
  },
  {
   "cell_type": "code",
   "execution_count": 105,
   "id": "67e30606-7f6e-4455-b8a1-1d01aabb5bd5",
   "metadata": {},
   "outputs": [],
   "source": [
    "a[0][0] = 50"
   ]
  },
  {
   "cell_type": "code",
   "execution_count": 106,
   "id": "cc859a98-4c02-4132-a525-d976428d3187",
   "metadata": {},
   "outputs": [
    {
     "data": {
      "text/plain": [
       "array([[50,  1,  2],\n",
       "       [ 3,  4,  5],\n",
       "       [ 6,  7,  8]])"
      ]
     },
     "execution_count": 106,
     "metadata": {},
     "output_type": "execute_result"
    }
   ],
   "source": [
    "a"
   ]
  },
  {
   "cell_type": "code",
   "execution_count": 107,
   "id": "30e7df15-8477-45c2-8d2e-48af05f04af4",
   "metadata": {},
   "outputs": [
    {
     "data": {
      "text/plain": [
       "array([[0, 1, 2],\n",
       "       [3, 4, 5],\n",
       "       [6, 7, 8]])"
      ]
     },
     "execution_count": 107,
     "metadata": {},
     "output_type": "execute_result"
    }
   ],
   "source": [
    "b"
   ]
  },
  {
   "cell_type": "code",
   "execution_count": null,
   "id": "f6ca3cd0-af6e-48db-aacd-5b6e938c8632",
   "metadata": {},
   "outputs": [],
   "source": []
  }
 ],
 "metadata": {
  "kernelspec": {
   "display_name": "Python 3 (ipykernel)",
   "language": "python",
   "name": "python3"
  },
  "language_info": {
   "codemirror_mode": {
    "name": "ipython",
    "version": 3
   },
   "file_extension": ".py",
   "mimetype": "text/x-python",
   "name": "python",
   "nbconvert_exporter": "python",
   "pygments_lexer": "ipython3",
   "version": "3.13.5"
  }
 },
 "nbformat": 4,
 "nbformat_minor": 5
}
