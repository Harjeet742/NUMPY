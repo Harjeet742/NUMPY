{
 "cells": [
  {
   "cell_type": "code",
   "execution_count": 2,
   "id": "0fe435d0-f611-4453-bbf9-9de87dc6fb55",
   "metadata": {},
   "outputs": [],
   "source": [
    "import numpy as np"
   ]
  },
  {
   "cell_type": "code",
   "execution_count": 4,
   "id": "5aaa5f85-7b15-406f-a5bc-8f08fcb9799e",
   "metadata": {},
   "outputs": [],
   "source": [
    "# seed function helps to retreive the same value in every system's array"
   ]
  },
  {
   "cell_type": "markdown",
   "id": "577dd2ec-a1ec-4cef-9189-1209b4f5e57e",
   "metadata": {},
   "source": [
    "## indexing"
   ]
  },
  {
   "cell_type": "code",
   "execution_count": 15,
   "id": "bddab1e4-95f9-4d57-a796-f978233723ac",
   "metadata": {},
   "outputs": [],
   "source": [
    "np.random.seed(50)"
   ]
  },
  {
   "cell_type": "code",
   "execution_count": 16,
   "id": "5694d52b-aeae-417d-b610-6366e2aa00c0",
   "metadata": {},
   "outputs": [],
   "source": [
    "arr = np.random.randint(1,20, (3,3))"
   ]
  },
  {
   "cell_type": "code",
   "execution_count": 17,
   "id": "45f36c5e-ea5e-4c3f-bf29-844d1485d917",
   "metadata": {},
   "outputs": [
    {
     "data": {
      "text/plain": [
       "array([[17,  1, 12],\n",
       "       [14,  2,  5],\n",
       "       [ 7,  6,  7]], dtype=int32)"
      ]
     },
     "execution_count": 17,
     "metadata": {},
     "output_type": "execute_result"
    }
   ],
   "source": [
    "arr"
   ]
  },
  {
   "cell_type": "code",
   "execution_count": 18,
   "id": "0236ae25-5077-44d6-870d-91ca3c5315db",
   "metadata": {},
   "outputs": [
    {
     "data": {
      "text/plain": [
       "array([7, 6, 7], dtype=int32)"
      ]
     },
     "execution_count": 18,
     "metadata": {},
     "output_type": "execute_result"
    }
   ],
   "source": [
    "arr[2]"
   ]
  },
  {
   "cell_type": "code",
   "execution_count": 20,
   "id": "18220f86-7d37-4b73-aad1-623700fbb8e6",
   "metadata": {},
   "outputs": [
    {
     "data": {
      "text/plain": [
       "np.int32(7)"
      ]
     },
     "execution_count": 20,
     "metadata": {},
     "output_type": "execute_result"
    }
   ],
   "source": [
    "arr[2][0]"
   ]
  },
  {
   "cell_type": "code",
   "execution_count": 21,
   "id": "8b173b6e-f3f5-46cb-a305-39f989262c18",
   "metadata": {},
   "outputs": [
    {
     "data": {
      "text/plain": [
       "array([[17,  1, 12],\n",
       "       [14,  2,  5],\n",
       "       [ 7,  6,  7]], dtype=int32)"
      ]
     },
     "execution_count": 21,
     "metadata": {},
     "output_type": "execute_result"
    }
   ],
   "source": [
    "arr"
   ]
  },
  {
   "cell_type": "code",
   "execution_count": 22,
   "id": "747b63c1-e6ab-47da-b2ed-f0aeb24d1178",
   "metadata": {},
   "outputs": [],
   "source": [
    "arr = np.random.randint(1,20,(3,5,4))"
   ]
  },
  {
   "cell_type": "code",
   "execution_count": 23,
   "id": "bf6b9ad5-b7f1-47d7-8e87-32fda3d691b8",
   "metadata": {},
   "outputs": [
    {
     "data": {
      "text/plain": [
       "array([[[14,  6,  3,  8],\n",
       "        [16,  5, 15,  4],\n",
       "        [ 7, 12, 18, 11],\n",
       "        [10,  1,  7,  3],\n",
       "        [16, 10,  4,  3]],\n",
       "\n",
       "       [[13,  1,  4,  3],\n",
       "        [11, 17, 15,  1],\n",
       "        [ 1, 12,  8, 15],\n",
       "        [14,  8,  5,  5],\n",
       "        [ 1, 12,  1, 14]],\n",
       "\n",
       "       [[14,  2, 10, 12],\n",
       "        [ 6,  1, 16,  6],\n",
       "        [ 7,  2,  5,  5],\n",
       "        [13, 15,  5, 12],\n",
       "        [ 1,  6,  9, 13]]], dtype=int32)"
      ]
     },
     "execution_count": 23,
     "metadata": {},
     "output_type": "execute_result"
    }
   ],
   "source": [
    "arr"
   ]
  },
  {
   "cell_type": "code",
   "execution_count": 24,
   "id": "d454102e-fd6d-4eb4-add2-a45ab5123e86",
   "metadata": {},
   "outputs": [
    {
     "data": {
      "text/plain": [
       "array([[13,  1,  4,  3],\n",
       "       [11, 17, 15,  1],\n",
       "       [ 1, 12,  8, 15],\n",
       "       [14,  8,  5,  5],\n",
       "       [ 1, 12,  1, 14]], dtype=int32)"
      ]
     },
     "execution_count": 24,
     "metadata": {},
     "output_type": "execute_result"
    }
   ],
   "source": [
    "arr[1]"
   ]
  },
  {
   "cell_type": "code",
   "execution_count": 26,
   "id": "1cee76bb-bcc4-4594-a209-ca9ad4e93ae3",
   "metadata": {},
   "outputs": [
    {
     "data": {
      "text/plain": [
       "np.int32(5)"
      ]
     },
     "execution_count": 26,
     "metadata": {},
     "output_type": "execute_result"
    }
   ],
   "source": [
    "arr[1,3,2]"
   ]
  },
  {
   "cell_type": "code",
   "execution_count": 28,
   "id": "d7c3503f-fa8b-4db5-9aa1-848db3108c1b",
   "metadata": {},
   "outputs": [
    {
     "data": {
      "text/plain": [
       "array([[14,  6,  3,  8],\n",
       "       [16,  5, 15,  4],\n",
       "       [ 7, 12, 18, 11],\n",
       "       [10,  1,  7,  3],\n",
       "       [16, 10,  4,  3]], dtype=int32)"
      ]
     },
     "execution_count": 28,
     "metadata": {},
     "output_type": "execute_result"
    }
   ],
   "source": [
    "arr[0]"
   ]
  },
  {
   "cell_type": "code",
   "execution_count": 29,
   "id": "671c1984-43d1-41ae-99c1-24ba910b6212",
   "metadata": {},
   "outputs": [
    {
     "data": {
      "text/plain": [
       "array([ 7, 12, 18, 11], dtype=int32)"
      ]
     },
     "execution_count": 29,
     "metadata": {},
     "output_type": "execute_result"
    }
   ],
   "source": [
    "arr[0][2]"
   ]
  },
  {
   "cell_type": "code",
   "execution_count": 30,
   "id": "efa6d003-9b7b-4704-8d6d-7ea31a9fe481",
   "metadata": {},
   "outputs": [
    {
     "data": {
      "text/plain": [
       "np.int32(11)"
      ]
     },
     "execution_count": 30,
     "metadata": {},
     "output_type": "execute_result"
    }
   ],
   "source": [
    "arr[0][2][3]"
   ]
  },
  {
   "cell_type": "markdown",
   "id": "80786fb2-ec36-4e1c-bef7-fa70d52fbf76",
   "metadata": {},
   "source": [
    "## Slicing"
   ]
  },
  {
   "cell_type": "code",
   "execution_count": 4,
   "id": "24e94233-db1d-4278-8da9-5d544e769702",
   "metadata": {},
   "outputs": [],
   "source": [
    "arr = np.random.randint(1,20, (5,5))"
   ]
  },
  {
   "cell_type": "code",
   "execution_count": 5,
   "id": "8ab9ad1b-201b-4c0b-ae89-2662b91167e1",
   "metadata": {},
   "outputs": [
    {
     "data": {
      "text/plain": [
       "array([[17, 16,  4, 14, 11],\n",
       "       [ 5, 10,  3, 17,  3],\n",
       "       [ 5,  6, 16, 19,  2],\n",
       "       [ 5, 11, 14,  8, 10],\n",
       "       [12, 17,  1,  3,  8]], dtype=int32)"
      ]
     },
     "execution_count": 5,
     "metadata": {},
     "output_type": "execute_result"
    }
   ],
   "source": [
    "arr"
   ]
  },
  {
   "cell_type": "code",
   "execution_count": 6,
   "id": "33a9cf16-2695-445a-86b5-f65df71f36e7",
   "metadata": {},
   "outputs": [
    {
     "data": {
      "text/plain": [
       "array([ 5,  6, 16, 19,  2], dtype=int32)"
      ]
     },
     "execution_count": 6,
     "metadata": {},
     "output_type": "execute_result"
    }
   ],
   "source": [
    "arr[2]"
   ]
  },
  {
   "cell_type": "code",
   "execution_count": 9,
   "id": "8df32e3d-f27a-4cc5-9751-01b227173aba",
   "metadata": {},
   "outputs": [
    {
     "data": {
      "text/plain": [
       "array([[ 5,  6, 16, 19,  2],\n",
       "       [ 5, 11, 14,  8, 10]], dtype=int32)"
      ]
     },
     "execution_count": 9,
     "metadata": {},
     "output_type": "execute_result"
    }
   ],
   "source": [
    "arr[2:4]"
   ]
  },
  {
   "cell_type": "code",
   "execution_count": 10,
   "id": "ea1ba694-2927-4206-8fcb-7fc1ad19b599",
   "metadata": {},
   "outputs": [
    {
     "data": {
      "text/plain": [
       "array([[ 6, 16],\n",
       "       [11, 14]], dtype=int32)"
      ]
     },
     "execution_count": 10,
     "metadata": {},
     "output_type": "execute_result"
    }
   ],
   "source": [
    "arr[2:4, 1:3]"
   ]
  },
  {
   "cell_type": "code",
   "execution_count": 11,
   "id": "427ab0ed-849c-4647-b5d5-d84110c84e2b",
   "metadata": {},
   "outputs": [
    {
     "data": {
      "text/plain": [
       "array([[12, 17,  1,  3,  8],\n",
       "       [ 5, 11, 14,  8, 10],\n",
       "       [ 5,  6, 16, 19,  2],\n",
       "       [ 5, 10,  3, 17,  3],\n",
       "       [17, 16,  4, 14, 11]], dtype=int32)"
      ]
     },
     "execution_count": 11,
     "metadata": {},
     "output_type": "execute_result"
    }
   ],
   "source": [
    "arr[::-1]"
   ]
  },
  {
   "cell_type": "code",
   "execution_count": 56,
   "id": "cd05a293-cde3-443e-9e23-dd69c4d24708",
   "metadata": {},
   "outputs": [
    {
     "data": {
      "text/plain": [
       "array([[ 17,  16,   4,  14,  11],\n",
       "       [  5,  10,   3,  17,   3],\n",
       "       [  5,   6,  16,  19,   2],\n",
       "       [  5,  11,  -4,   8,  10],\n",
       "       [ 12, -19,   1,   3,   8]], dtype=int32)"
      ]
     },
     "execution_count": 56,
     "metadata": {},
     "output_type": "execute_result"
    }
   ],
   "source": [
    "arr"
   ]
  },
  {
   "cell_type": "code",
   "execution_count": 57,
   "id": "f67ac83f-1d62-430e-b09a-500a0786e00a",
   "metadata": {},
   "outputs": [
    {
     "data": {
      "text/plain": [
       "array([[ 6, 16, 19],\n",
       "       [11, -4,  8]], dtype=int32)"
      ]
     },
     "execution_count": 57,
     "metadata": {},
     "output_type": "execute_result"
    }
   ],
   "source": [
    "arr[2:4, 1:4]"
   ]
  },
  {
   "cell_type": "code",
   "execution_count": 58,
   "id": "9dc21362-da1f-441b-875a-071dbdaeef99",
   "metadata": {},
   "outputs": [
    {
     "data": {
      "text/plain": [
       "array([[ 17,  16,   4,  14,  11],\n",
       "       [  5,  10,   3,  17,   3],\n",
       "       [  5,   6,  16,  19,   2],\n",
       "       [  5,  11,  -4,   8,  10],\n",
       "       [ 12, -19,   1,   3,   8]], dtype=int32)"
      ]
     },
     "execution_count": 58,
     "metadata": {},
     "output_type": "execute_result"
    }
   ],
   "source": [
    "arr"
   ]
  },
  {
   "cell_type": "code",
   "execution_count": 70,
   "id": "6495c7e0-8bb7-4ea3-9237-a1c547b4336e",
   "metadata": {},
   "outputs": [
    {
     "data": {
      "text/plain": [
       "array([[ 17,  16,   4,  14],\n",
       "       [  5,  10,   3,  17],\n",
       "       [  5,   6,  16,  19],\n",
       "       [  5,  11,  -4,   8],\n",
       "       [ 12, -19,   1,   3]], dtype=int32)"
      ]
     },
     "execution_count": 70,
     "metadata": {},
     "output_type": "execute_result"
    }
   ],
   "source": [
    "arr[:,0:4]"
   ]
  },
  {
   "cell_type": "code",
   "execution_count": 71,
   "id": "b9b5ef1e-1315-4a61-ae36-16d83169d924",
   "metadata": {},
   "outputs": [],
   "source": [
    "arr[-1,1]= -19"
   ]
  },
  {
   "cell_type": "code",
   "execution_count": 72,
   "id": "526fefef-ac90-4fc5-a678-4bc3606c4067",
   "metadata": {},
   "outputs": [
    {
     "data": {
      "text/plain": [
       "array([[ 17,  16,   4,  14,  11],\n",
       "       [  5,  10,   3,  17,   3],\n",
       "       [  5,   6,  16,  19,   2],\n",
       "       [  5,  11,  -4,   8,  10],\n",
       "       [ 12, -19,   1,   3,   8]], dtype=int32)"
      ]
     },
     "execution_count": 72,
     "metadata": {},
     "output_type": "execute_result"
    }
   ],
   "source": [
    "arr"
   ]
  },
  {
   "cell_type": "code",
   "execution_count": 73,
   "id": "e6080602-4749-4971-ac00-c383a71eab9d",
   "metadata": {},
   "outputs": [
    {
     "data": {
      "text/plain": [
       "array([ 12, -19,   1,   3,   8], dtype=int32)"
      ]
     },
     "execution_count": 73,
     "metadata": {},
     "output_type": "execute_result"
    }
   ],
   "source": [
    "arr[-1]"
   ]
  },
  {
   "cell_type": "code",
   "execution_count": 74,
   "id": "a6ef6ae0-9c7d-4fa0-959e-74237156643d",
   "metadata": {},
   "outputs": [
    {
     "data": {
      "text/plain": [
       "array([ 5, 11, -4,  8, 10], dtype=int32)"
      ]
     },
     "execution_count": 74,
     "metadata": {},
     "output_type": "execute_result"
    }
   ],
   "source": [
    "arr[-2]"
   ]
  },
  {
   "cell_type": "code",
   "execution_count": 86,
   "id": "1dcf2702-5878-4058-a70e-02ed65b96c28",
   "metadata": {},
   "outputs": [],
   "source": [
    "arr[-2, 2] = -4"
   ]
  },
  {
   "cell_type": "code",
   "execution_count": 87,
   "id": "59f98739-114a-43ef-8834-3d3c6c152cdd",
   "metadata": {},
   "outputs": [
    {
     "data": {
      "text/plain": [
       "array([[17, 16,  4, 14, 11],\n",
       "       [ 5, 10,  3, 17,  3],\n",
       "       [ 5,  5, 16, 19,  2],\n",
       "       [ 5,  5, -4,  8, 10],\n",
       "       [ 5,  5,  1,  3,  8]], dtype=int32)"
      ]
     },
     "execution_count": 87,
     "metadata": {},
     "output_type": "execute_result"
    }
   ],
   "source": [
    "arr"
   ]
  },
  {
   "cell_type": "code",
   "execution_count": 88,
   "id": "4f372a3c-4397-42d1-a6a3-f7b94418e1d2",
   "metadata": {},
   "outputs": [
    {
     "data": {
      "text/plain": [
       "array([[17, 16,  4, 14, 11],\n",
       "       [ 5, 10,  3, 17,  3],\n",
       "       [ 5,  5, 16, 19,  2],\n",
       "       [ 5,  5, -4,  8, 10],\n",
       "       [ 5,  5,  1,  3,  8]], dtype=int32)"
      ]
     },
     "execution_count": 88,
     "metadata": {},
     "output_type": "execute_result"
    }
   ],
   "source": [
    "arr"
   ]
  },
  {
   "cell_type": "code",
   "execution_count": 136,
   "id": "02c4511d-241f-431a-805f-6b94044b9f27",
   "metadata": {},
   "outputs": [
    {
     "data": {
      "text/plain": [
       "array([[ 5,  5,  5, 19,  2],\n",
       "       [ 5,  5,  5,  8, 10],\n",
       "       [ 5,  5,  5,  3,  8]], dtype=int32)"
      ]
     },
     "execution_count": 136,
     "metadata": {},
     "output_type": "execute_result"
    }
   ],
   "source": [
    "arr[2:]"
   ]
  },
  {
   "cell_type": "code",
   "execution_count": 137,
   "id": "c11d9d3c-70e3-487f-aae0-b38dc5fdfa56",
   "metadata": {},
   "outputs": [
    {
     "data": {
      "text/plain": [
       "array([[5, 5],\n",
       "       [5, 5],\n",
       "       [5, 5]], dtype=int32)"
      ]
     },
     "execution_count": 137,
     "metadata": {},
     "output_type": "execute_result"
    }
   ],
   "source": [
    "arr[2:,0:2]"
   ]
  },
  {
   "cell_type": "code",
   "execution_count": 138,
   "id": "23924082-23dc-41bb-8855-82edd3563882",
   "metadata": {},
   "outputs": [],
   "source": [
    "arr[2:,0:2] = 5"
   ]
  },
  {
   "cell_type": "code",
   "execution_count": 139,
   "id": "29b2f710-681e-4753-ac3a-295020e0c39e",
   "metadata": {},
   "outputs": [
    {
     "data": {
      "text/plain": [
       "array([[17, 16,  4, 14, 11],\n",
       "       [ 5, 10,  3, 17,  3],\n",
       "       [ 5,  5,  5, 19,  2],\n",
       "       [ 5,  5,  5,  8, 10],\n",
       "       [ 5,  5,  5,  3,  8]], dtype=int32)"
      ]
     },
     "execution_count": 139,
     "metadata": {},
     "output_type": "execute_result"
    }
   ],
   "source": [
    "arr"
   ]
  },
  {
   "cell_type": "code",
   "execution_count": 170,
   "id": "412ac53c-5f46-4770-b43d-4a7a6ffe1e92",
   "metadata": {},
   "outputs": [
    {
     "data": {
      "text/plain": [
       "array([8, 3], dtype=int32)"
      ]
     },
     "execution_count": 170,
     "metadata": {},
     "output_type": "execute_result"
    }
   ],
   "source": [
    "arr[-2:, -2]"
   ]
  },
  {
   "cell_type": "code",
   "execution_count": 171,
   "id": "95e4ba32-2fe5-4e22-a1ef-0d1e0fb6e604",
   "metadata": {},
   "outputs": [
    {
     "data": {
      "text/plain": [
       "array([[ 8, 10],\n",
       "       [ 3,  8]], dtype=int32)"
      ]
     },
     "execution_count": 171,
     "metadata": {},
     "output_type": "execute_result"
    }
   ],
   "source": [
    "arr[-2:,-2:]"
   ]
  },
  {
   "cell_type": "code",
   "execution_count": 172,
   "id": "a2fb49e8-7fd7-425d-92ae-62a9fbeeb8dc",
   "metadata": {},
   "outputs": [],
   "source": [
    "a = arr[-2:, -2:]"
   ]
  },
  {
   "cell_type": "code",
   "execution_count": 173,
   "id": "cac4822a-9aa5-47e3-b092-e960a4cb6f96",
   "metadata": {},
   "outputs": [
    {
     "data": {
      "text/plain": [
       "array([[ 8, 10],\n",
       "       [ 3,  8]], dtype=int32)"
      ]
     },
     "execution_count": 173,
     "metadata": {},
     "output_type": "execute_result"
    }
   ],
   "source": [
    "a"
   ]
  },
  {
   "cell_type": "code",
   "execution_count": 174,
   "id": "52636d85-13e8-4cc1-a12f-14190588104b",
   "metadata": {},
   "outputs": [
    {
     "data": {
      "text/plain": [
       "array([ 8, 10], dtype=int32)"
      ]
     },
     "execution_count": 174,
     "metadata": {},
     "output_type": "execute_result"
    }
   ],
   "source": [
    "a[0]"
   ]
  },
  {
   "cell_type": "code",
   "execution_count": 176,
   "id": "7b8a7e64-a105-4eb1-9af7-73e8c214354e",
   "metadata": {},
   "outputs": [
    {
     "data": {
      "text/plain": [
       "np.int32(10)"
      ]
     },
     "execution_count": 176,
     "metadata": {},
     "output_type": "execute_result"
    }
   ],
   "source": [
    "a[0, -1]"
   ]
  },
  {
   "cell_type": "code",
   "execution_count": 177,
   "id": "e6fa1adb-9100-478e-8a0b-93aa896989de",
   "metadata": {},
   "outputs": [],
   "source": [
    "a[0, -1]= 100"
   ]
  },
  {
   "cell_type": "code",
   "execution_count": 178,
   "id": "ce415829-ba60-4ca0-9c68-b774629abd2d",
   "metadata": {
    "scrolled": true
   },
   "outputs": [
    {
     "data": {
      "text/plain": [
       "array([[  8, 100],\n",
       "       [  3,   8]], dtype=int32)"
      ]
     },
     "execution_count": 178,
     "metadata": {},
     "output_type": "execute_result"
    }
   ],
   "source": [
    "a"
   ]
  },
  {
   "cell_type": "code",
   "execution_count": 179,
   "id": "ac5befb0-ab6f-4a3d-afd0-b88d8f2b71cc",
   "metadata": {},
   "outputs": [
    {
     "data": {
      "text/plain": [
       "array([[ 17,  16,   4,  14,  11],\n",
       "       [  5,  10,   3,  17,   3],\n",
       "       [  5,   5,   5,  19,   2],\n",
       "       [  5,   5,   5,   8, 100],\n",
       "       [  5,   5,   5,   3,   8]], dtype=int32)"
      ]
     },
     "execution_count": 179,
     "metadata": {},
     "output_type": "execute_result"
    }
   ],
   "source": [
    "arr"
   ]
  },
  {
   "cell_type": "code",
   "execution_count": 309,
   "id": "3b17faa2-9699-4d91-bd21-56a31627a246",
   "metadata": {},
   "outputs": [],
   "source": [
    "arr = np.arange(9)\n",
    "arr = arr.reshape(3,3)"
   ]
  },
  {
   "cell_type": "code",
   "execution_count": 310,
   "id": "bf219399-52d4-4a94-8f01-72bd3f8bb95b",
   "metadata": {},
   "outputs": [],
   "source": [
    "a= arr"
   ]
  },
  {
   "cell_type": "code",
   "execution_count": 311,
   "id": "6bb84c89-0cb0-4fe9-99cd-aaada33d6a08",
   "metadata": {},
   "outputs": [],
   "source": [
    "b= arr.copy()"
   ]
  },
  {
   "cell_type": "code",
   "execution_count": 314,
   "id": "67e30606-7f6e-4455-b8a1-1d01aabb5bd5",
   "metadata": {},
   "outputs": [],
   "source": [
    "a[1][2] = 50"
   ]
  },
  {
   "cell_type": "code",
   "execution_count": 315,
   "id": "cc859a98-4c02-4132-a525-d976428d3187",
   "metadata": {},
   "outputs": [
    {
     "data": {
      "text/plain": [
       "array([[ 0,  1,  2],\n",
       "       [ 3, 50, 50],\n",
       "       [ 6,  7,  8]])"
      ]
     },
     "execution_count": 315,
     "metadata": {},
     "output_type": "execute_result"
    }
   ],
   "source": [
    "a"
   ]
  },
  {
   "cell_type": "code",
   "execution_count": 316,
   "id": "30e7df15-8477-45c2-8d2e-48af05f04af4",
   "metadata": {},
   "outputs": [
    {
     "data": {
      "text/plain": [
       "array([[0, 1, 2],\n",
       "       [3, 4, 5],\n",
       "       [6, 7, 8]])"
      ]
     },
     "execution_count": 316,
     "metadata": {},
     "output_type": "execute_result"
    }
   ],
   "source": [
    "b"
   ]
  },
  {
   "cell_type": "code",
   "execution_count": 317,
   "id": "f6ca3cd0-af6e-48db-aacd-5b6e938c8632",
   "metadata": {},
   "outputs": [],
   "source": [
    "arr = np.arange(13)"
   ]
  },
  {
   "cell_type": "code",
   "execution_count": 318,
   "id": "e6ecb633-9f25-4541-86f0-5d7a4f9570de",
   "metadata": {},
   "outputs": [
    {
     "data": {
      "text/plain": [
       "array([ 0,  1,  2,  3,  4,  5,  6,  7,  8,  9, 10, 11, 12])"
      ]
     },
     "execution_count": 318,
     "metadata": {},
     "output_type": "execute_result"
    }
   ],
   "source": [
    "arr"
   ]
  },
  {
   "cell_type": "code",
   "execution_count": 329,
   "id": "3d8cd375-fec1-44a0-9a59-7bb993510752",
   "metadata": {},
   "outputs": [],
   "source": [
    "arr = np.arange(12)\n",
    "arr = arr.reshape(3,2,2)"
   ]
  },
  {
   "cell_type": "code",
   "execution_count": 330,
   "id": "a28bcac7-352d-4974-b329-3893e16c0711",
   "metadata": {},
   "outputs": [
    {
     "data": {
      "text/plain": [
       "array([[[ 0,  1],\n",
       "        [ 2,  3]],\n",
       "\n",
       "       [[ 4,  5],\n",
       "        [ 6,  7]],\n",
       "\n",
       "       [[ 8,  9],\n",
       "        [10, 11]]])"
      ]
     },
     "execution_count": 330,
     "metadata": {},
     "output_type": "execute_result"
    }
   ],
   "source": [
    "arr"
   ]
  },
  {
   "cell_type": "code",
   "execution_count": 331,
   "id": "9564b112-df2b-40ac-a37c-bb1df41444a9",
   "metadata": {},
   "outputs": [],
   "source": [
    "a = arr"
   ]
  },
  {
   "cell_type": "code",
   "execution_count": 332,
   "id": "14ec3f15-1940-49c9-8921-6bf344546d66",
   "metadata": {},
   "outputs": [],
   "source": [
    "b = arr.copy()"
   ]
  },
  {
   "cell_type": "code",
   "execution_count": 333,
   "id": "b71b216a-226a-4206-b589-1bda9bab0143",
   "metadata": {},
   "outputs": [],
   "source": [
    "a[2][1]= 0"
   ]
  },
  {
   "cell_type": "code",
   "execution_count": 334,
   "id": "feb456c9-f258-4d0d-93f1-def930ce0130",
   "metadata": {},
   "outputs": [
    {
     "data": {
      "text/plain": [
       "array([[[0, 1],\n",
       "        [2, 3]],\n",
       "\n",
       "       [[4, 5],\n",
       "        [6, 7]],\n",
       "\n",
       "       [[8, 9],\n",
       "        [0, 0]]])"
      ]
     },
     "execution_count": 334,
     "metadata": {},
     "output_type": "execute_result"
    }
   ],
   "source": [
    "a"
   ]
  },
  {
   "cell_type": "code",
   "execution_count": null,
   "id": "c15f9fbf-e6fc-473d-b9fd-0bc1fdd47d16",
   "metadata": {},
   "outputs": [],
   "source": []
  }
 ],
 "metadata": {
  "kernelspec": {
   "display_name": "Python 3 (ipykernel)",
   "language": "python",
   "name": "python3"
  },
  "language_info": {
   "codemirror_mode": {
    "name": "ipython",
    "version": 3
   },
   "file_extension": ".py",
   "mimetype": "text/x-python",
   "name": "python",
   "nbconvert_exporter": "python",
   "pygments_lexer": "ipython3",
   "version": "3.13.5"
  }
 },
 "nbformat": 4,
 "nbformat_minor": 5
}
