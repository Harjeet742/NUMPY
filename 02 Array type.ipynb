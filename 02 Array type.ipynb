{
 "cells": [
  {
   "cell_type": "code",
   "execution_count": 1,
   "id": "a38afc94-f59b-4fd2-9bb6-92a74941a827",
   "metadata": {},
   "outputs": [],
   "source": [
    "import numpy as np"
   ]
  },
  {
   "cell_type": "code",
   "execution_count": 2,
   "id": "3661b913-3f81-4d6d-9586-a9deb784e73a",
   "metadata": {},
   "outputs": [],
   "source": [
    "arr = np.array(range(25))"
   ]
  },
  {
   "cell_type": "code",
   "execution_count": 3,
   "id": "47a1bf83-f68d-44a3-870c-8d038e6aae45",
   "metadata": {},
   "outputs": [
    {
     "data": {
      "text/plain": [
       "array([[ 0,  1,  2,  3,  4],\n",
       "       [ 5,  6,  7,  8,  9],\n",
       "       [10, 11, 12, 13, 14],\n",
       "       [15, 16, 17, 18, 19],\n",
       "       [20, 21, 22, 23, 24]])"
      ]
     },
     "execution_count": 3,
     "metadata": {},
     "output_type": "execute_result"
    }
   ],
   "source": [
    "arr.reshape(5,5)"
   ]
  },
  {
   "cell_type": "code",
   "execution_count": 111,
   "id": "a64c7740-e5e3-4e72-8843-6e9de9abdd14",
   "metadata": {},
   "outputs": [],
   "source": [
    "arr = np.array(range(24))"
   ]
  },
  {
   "cell_type": "code",
   "execution_count": 112,
   "id": "cc9b01c7-3e8b-44c2-9268-e9e531438fc7",
   "metadata": {},
   "outputs": [
    {
     "data": {
      "text/plain": [
       "array([ 0,  1,  2,  3,  4,  5,  6,  7,  8,  9, 10, 11, 12, 13, 14, 15, 16,\n",
       "       17, 18, 19, 20, 21, 22, 23])"
      ]
     },
     "execution_count": 112,
     "metadata": {},
     "output_type": "execute_result"
    }
   ],
   "source": [
    "arr"
   ]
  },
  {
   "cell_type": "code",
   "execution_count": 113,
   "id": "82df12af-610f-4cd8-9efd-0902b19df848",
   "metadata": {},
   "outputs": [],
   "source": [
    "arr = arr.reshape(2,3,4)"
   ]
  },
  {
   "cell_type": "code",
   "execution_count": 114,
   "id": "33805610-24c6-4197-89e7-a7a317676578",
   "metadata": {},
   "outputs": [
    {
     "data": {
      "text/plain": [
       "array([[[ 0,  1,  2,  3],\n",
       "        [ 4,  5,  6,  7],\n",
       "        [ 8,  9, 10, 11]],\n",
       "\n",
       "       [[12, 13, 14, 15],\n",
       "        [16, 17, 18, 19],\n",
       "        [20, 21, 22, 23]]])"
      ]
     },
     "execution_count": 114,
     "metadata": {},
     "output_type": "execute_result"
    }
   ],
   "source": [
    "arr"
   ]
  },
  {
   "cell_type": "code",
   "execution_count": 115,
   "id": "60251610-3a11-4740-9dfe-c1b8c3812901",
   "metadata": {},
   "outputs": [
    {
     "data": {
      "text/plain": [
       "3"
      ]
     },
     "execution_count": 115,
     "metadata": {},
     "output_type": "execute_result"
    }
   ],
   "source": [
    "arr.ndim"
   ]
  },
  {
   "cell_type": "code",
   "execution_count": 116,
   "id": "ea79210e-62b6-473c-a785-4fec117c4dcf",
   "metadata": {},
   "outputs": [
    {
     "data": {
      "text/plain": [
       "(2, 3, 4)"
      ]
     },
     "execution_count": 116,
     "metadata": {},
     "output_type": "execute_result"
    }
   ],
   "source": [
    "arr.shape"
   ]
  },
  {
   "cell_type": "code",
   "execution_count": 117,
   "id": "39196a3b-f2e8-479d-b7db-3d55a0e1db34",
   "metadata": {},
   "outputs": [
    {
     "data": {
      "text/plain": [
       "3"
      ]
     },
     "execution_count": 117,
     "metadata": {},
     "output_type": "execute_result"
    }
   ],
   "source": [
    "arr.ndim"
   ]
  },
  {
   "cell_type": "markdown",
   "id": "fd742500-fd55-49c3-8681-b003d100edee",
   "metadata": {},
   "source": [
    "# Arange generates a array with numbers in a range"
   ]
  },
  {
   "cell_type": "code",
   "execution_count": 29,
   "id": "d0d66d23-b037-42a1-99e3-b1b33a528f00",
   "metadata": {},
   "outputs": [],
   "source": [
    "arr = np.arange(25)"
   ]
  },
  {
   "cell_type": "code",
   "execution_count": 30,
   "id": "e9d76fa0-9c4d-4df6-8f4b-428fcdd87e31",
   "metadata": {},
   "outputs": [
    {
     "data": {
      "text/plain": [
       "array([ 0,  1,  2,  3,  4,  5,  6,  7,  8,  9, 10, 11, 12, 13, 14, 15, 16,\n",
       "       17, 18, 19, 20, 21, 22, 23, 24])"
      ]
     },
     "execution_count": 30,
     "metadata": {},
     "output_type": "execute_result"
    }
   ],
   "source": [
    "arr"
   ]
  },
  {
   "cell_type": "code",
   "execution_count": 31,
   "id": "5ab15c73-6797-4dc9-9274-f2341449a0a5",
   "metadata": {},
   "outputs": [
    {
     "data": {
      "text/plain": [
       "(25,)"
      ]
     },
     "execution_count": 31,
     "metadata": {},
     "output_type": "execute_result"
    }
   ],
   "source": [
    "arr.shape"
   ]
  },
  {
   "cell_type": "code",
   "execution_count": 35,
   "id": "23429a3d-eb6b-44d9-8d58-76a00aa26a5a",
   "metadata": {},
   "outputs": [
    {
     "data": {
      "text/plain": [
       "array([ 0,  1,  2,  3,  4,  5,  6,  7,  8,  9, 10, 11, 12, 13, 14, 15, 16,\n",
       "       17, 18, 19, 20, 21, 22, 23, 24])"
      ]
     },
     "execution_count": 35,
     "metadata": {},
     "output_type": "execute_result"
    }
   ],
   "source": [
    "arr.reshape(-1)"
   ]
  },
  {
   "cell_type": "markdown",
   "id": "e8333385-7ed3-4db0-8173-feb3559ba630",
   "metadata": {},
   "source": [
    "### generates numbers linearly spaced from starting index including index"
   ]
  },
  {
   "cell_type": "code",
   "execution_count": 118,
   "id": "8d5b2d99-2c14-4b9b-ab40-ccc07dfcb753",
   "metadata": {},
   "outputs": [
    {
     "data": {
      "text/plain": [
       "array([ 1.,  2.,  3.,  4.,  5.,  6.,  7.,  8.,  9., 10.])"
      ]
     },
     "execution_count": 118,
     "metadata": {},
     "output_type": "execute_result"
    }
   ],
   "source": [
    "np.linspace(1,10,10)"
   ]
  },
  {
   "cell_type": "code",
   "execution_count": 119,
   "id": "90ae8785-91d3-4c3f-9425-40e9c6161892",
   "metadata": {},
   "outputs": [
    {
     "data": {
      "text/plain": [
       "array([ 1.  ,  3.25,  5.5 ,  7.75, 10.  ])"
      ]
     },
     "execution_count": 119,
     "metadata": {},
     "output_type": "execute_result"
    }
   ],
   "source": [
    "np.linspace(1,10,5)"
   ]
  },
  {
   "cell_type": "markdown",
   "id": "c1239e42-9e2d-4321-9f29-ca586db747c4",
   "metadata": {},
   "source": [
    "### random functions"
   ]
  },
  {
   "cell_type": "markdown",
   "id": "1640ebbf-aea4-46d8-9d10-eb581da09b7b",
   "metadata": {},
   "source": [
    "### generates array random numbers from uniform distribution between 0 and 1"
   ]
  },
  {
   "cell_type": "code",
   "execution_count": 40,
   "id": "7f1188d8-0db6-4fb3-8615-6bfb83d8095f",
   "metadata": {},
   "outputs": [
    {
     "data": {
      "text/plain": [
       "array([0.90687831, 0.76021074, 0.00409872, 0.65903168, 0.69867716])"
      ]
     },
     "execution_count": 40,
     "metadata": {},
     "output_type": "execute_result"
    }
   ],
   "source": [
    "np.random.rand(5)"
   ]
  },
  {
   "cell_type": "code",
   "execution_count": 42,
   "id": "95ab1499-4cc1-4034-9551-14ccbcb243d6",
   "metadata": {},
   "outputs": [
    {
     "data": {
      "text/plain": [
       "array([[0.71996596, 0.23283274, 0.17596757],\n",
       "       [0.04085985, 0.90642605, 0.28376935],\n",
       "       [0.81571943, 0.50666199, 0.16586838],\n",
       "       [0.87240542, 0.70091892, 0.75841227],\n",
       "       [0.94528317, 0.01450776, 0.48399895]])"
      ]
     },
     "execution_count": 42,
     "metadata": {},
     "output_type": "execute_result"
    }
   ],
   "source": [
    "np.random.rand(5, 3)"
   ]
  },
  {
   "cell_type": "markdown",
   "id": "cae47658-3041-4295-828d-4cd87d1bcca5",
   "metadata": {},
   "source": [
    "### generates array random numbers from normal distribution with center as 0"
   ]
  },
  {
   "cell_type": "code",
   "execution_count": 48,
   "id": "e730cfe0-b952-4218-af00-5cfe028a7380",
   "metadata": {},
   "outputs": [
    {
     "data": {
      "text/plain": [
       "array([-0.83463208,  0.19150521, -0.80823649,  1.40700285])"
      ]
     },
     "execution_count": 48,
     "metadata": {},
     "output_type": "execute_result"
    }
   ],
   "source": [
    "np.random.randn(4)"
   ]
  },
  {
   "cell_type": "code",
   "execution_count": 51,
   "id": "89ac28f4-f862-46a2-a317-b5479d61d5ea",
   "metadata": {},
   "outputs": [
    {
     "data": {
      "text/plain": [
       "array([[-1.52574048,  0.55458336,  0.46091076, -1.87316737,  0.24314149],\n",
       "       [ 0.47479934, -0.42138044, -0.65110351,  0.31785727, -0.57452285],\n",
       "       [ 0.21553748, -0.30334479,  1.65092707,  0.80085444, -1.31024769],\n",
       "       [ 0.24764805,  0.14528897, -1.58406236,  1.20866621, -1.20127432],\n",
       "       [-0.95753698,  0.44116444, -0.48566233,  1.21419469,  1.12412586]])"
      ]
     },
     "execution_count": 51,
     "metadata": {},
     "output_type": "execute_result"
    }
   ],
   "source": [
    "np.random.randn(5,5)"
   ]
  },
  {
   "cell_type": "markdown",
   "id": "fb2fed5a-3060-4896-9402-b893c0332e46",
   "metadata": {},
   "source": [
    "### generates array of random numbers between starting and ending"
   ]
  },
  {
   "cell_type": "code",
   "execution_count": 79,
   "id": "547537b8-8167-4ad3-888c-7a01d4c6e309",
   "metadata": {},
   "outputs": [
    {
     "data": {
      "text/plain": [
       "array([[4, 2, 3, 1, 4, 3],\n",
       "       [3, 2, 4, 0, 3, 0],\n",
       "       [1, 0, 2, 4, 1, 4]], dtype=int32)"
      ]
     },
     "execution_count": 79,
     "metadata": {},
     "output_type": "execute_result"
    }
   ],
   "source": [
    "np.random.randint(0,5, (3,6))"
   ]
  },
  {
   "cell_type": "code",
   "execution_count": 68,
   "id": "94b6e866-f50d-4f75-a116-4bd445d270c1",
   "metadata": {},
   "outputs": [
    {
     "data": {
      "text/plain": [
       "array([ 0,  1,  2,  3,  4,  5,  6,  7,  8,  9, 10, 11, 12, 13, 14, 15, 16,\n",
       "       17, 18, 19, 20, 21, 22, 23, 24])"
      ]
     },
     "execution_count": 68,
     "metadata": {},
     "output_type": "execute_result"
    }
   ],
   "source": [
    "arr.reshape(-1)"
   ]
  },
  {
   "cell_type": "code",
   "execution_count": 74,
   "id": "c6fce0c1-c36d-4624-8543-fbc5b21a0166",
   "metadata": {},
   "outputs": [
    {
     "data": {
      "text/plain": [
       "array([[ 0,  1,  2,  3,  4],\n",
       "       [ 5,  6,  7,  8,  9],\n",
       "       [10, 11, 12, 13, 14],\n",
       "       [15, 16, 17, 18, 19],\n",
       "       [20, 21, 22, 23, 24]])"
      ]
     },
     "execution_count": 74,
     "metadata": {},
     "output_type": "execute_result"
    }
   ],
   "source": [
    "arr.reshape(5,5)"
   ]
  },
  {
   "cell_type": "code",
   "execution_count": 86,
   "id": "222cd9c2-4d2f-4007-a3bc-a0381fecdac9",
   "metadata": {},
   "outputs": [],
   "source": [
    "arr = np.random.randint(0,10, (3,8))"
   ]
  },
  {
   "cell_type": "code",
   "execution_count": 87,
   "id": "2ce52c7e-d383-40a4-b998-1ea97895cb38",
   "metadata": {},
   "outputs": [
    {
     "data": {
      "text/plain": [
       "array([[2, 7, 6, 1, 5, 9, 5, 4],\n",
       "       [6, 6, 9, 1, 0, 2, 7, 9],\n",
       "       [5, 6, 2, 3, 2, 8, 6, 0]], dtype=int32)"
      ]
     },
     "execution_count": 87,
     "metadata": {},
     "output_type": "execute_result"
    }
   ],
   "source": [
    "arr"
   ]
  },
  {
   "cell_type": "code",
   "execution_count": 93,
   "id": "ef9c62db-eda8-4747-b030-c361f86ba792",
   "metadata": {},
   "outputs": [
    {
     "data": {
      "text/plain": [
       "array([2, 6, 5, 7, 6, 6, 6, 9, 2, 1, 1, 3, 5, 0, 2, 9, 2, 8, 5, 7, 6, 4,\n",
       "       9, 0], dtype=int32)"
      ]
     },
     "execution_count": 93,
     "metadata": {},
     "output_type": "execute_result"
    }
   ],
   "source": [
    "arr.flatten(order= 'f')"
   ]
  },
  {
   "cell_type": "code",
   "execution_count": 85,
   "id": "781884bb-539e-404e-9c3d-c422ccdb6b31",
   "metadata": {},
   "outputs": [
    {
     "data": {
      "text/plain": [
       "array([ 0,  1,  2,  3,  4,  5,  6,  7,  8,  9, 10, 11, 12, 13, 14, 15, 16,\n",
       "       17, 18, 19, 20, 21, 22, 23, 24])"
      ]
     },
     "execution_count": 85,
     "metadata": {},
     "output_type": "execute_result"
    }
   ],
   "source": [
    "arr"
   ]
  },
  {
   "cell_type": "markdown",
   "id": "bc7dcdeb-244c-4e4c-b591-63dff2a54742",
   "metadata": {},
   "source": [
    "# matrix\n",
    "### arrangement of data in rectangular form\n",
    "### rectangular matrix"
   ]
  },
  {
   "cell_type": "code",
   "execution_count": 97,
   "id": "690cb3c1-d2c2-4f20-b0b6-1192970e89df",
   "metadata": {},
   "outputs": [
    {
     "data": {
      "text/plain": [
       "array([[55, 17, 63],\n",
       "       [15,  3, 67],\n",
       "       [18, 21, 25],\n",
       "       [41, 29, 52],\n",
       "       [26, 27, 62]], dtype=int32)"
      ]
     },
     "execution_count": 97,
     "metadata": {},
     "output_type": "execute_result"
    }
   ],
   "source": [
    "np.random.randint(0,100, (5,3))"
   ]
  },
  {
   "cell_type": "markdown",
   "id": "068be270-9ebd-477b-a4cb-9937b502503e",
   "metadata": {},
   "source": [
    "### square matrix"
   ]
  },
  {
   "cell_type": "code",
   "execution_count": 98,
   "id": "9834a4af-20fd-418c-b327-24c0a6b24660",
   "metadata": {},
   "outputs": [
    {
     "data": {
      "text/plain": [
       "array([[54, 57, 56],\n",
       "       [51, 33, 86],\n",
       "       [87, 20, 40]], dtype=int32)"
      ]
     },
     "execution_count": 98,
     "metadata": {},
     "output_type": "execute_result"
    }
   ],
   "source": [
    "np.random.randint(0,100, (3,3))"
   ]
  },
  {
   "cell_type": "markdown",
   "id": "e92e379f-00c1-44f9-a24a-bf69067168ad",
   "metadata": {},
   "source": [
    "### Triangle matrix\n",
    "#### upper triangle matrix"
   ]
  },
  {
   "cell_type": "code",
   "execution_count": 99,
   "id": "3e1731ed-c913-4e3b-b930-9f67a5ea8863",
   "metadata": {},
   "outputs": [
    {
     "data": {
      "text/plain": [
       "array([[1, 2, 3],\n",
       "       [0, 4, 5],\n",
       "       [0, 0, 6]])"
      ]
     },
     "execution_count": 99,
     "metadata": {},
     "output_type": "execute_result"
    }
   ],
   "source": [
    "np.array([\n",
    "    [1,2,3],\n",
    "    [0,4,5],\n",
    "    [0,0,6]\n",
    "])"
   ]
  },
  {
   "cell_type": "markdown",
   "id": "ab9754d0-1108-4415-abb0-003dffe58e8d",
   "metadata": {},
   "source": [
    "#### lower triangle matrix"
   ]
  },
  {
   "cell_type": "code",
   "execution_count": 100,
   "id": "75f4865a-017a-4554-9ddd-c926b912a404",
   "metadata": {},
   "outputs": [
    {
     "data": {
      "text/plain": [
       "array([[1, 0, 0],\n",
       "       [2, 3, 0],\n",
       "       [4, 5, 6]])"
      ]
     },
     "execution_count": 100,
     "metadata": {},
     "output_type": "execute_result"
    }
   ],
   "source": [
    "np.array([\n",
    "    [1,0,0],\n",
    "    [2,3,0],\n",
    "    [4,5,6]\n",
    "])"
   ]
  },
  {
   "cell_type": "markdown",
   "id": "0fd8d950-d0e5-44f8-adb9-79fc99e6d567",
   "metadata": {},
   "source": [
    "#### diagonal matrix"
   ]
  },
  {
   "cell_type": "code",
   "execution_count": 101,
   "id": "50438eac-9a22-4d38-b0fe-31658d6be0fd",
   "metadata": {},
   "outputs": [
    {
     "data": {
      "text/plain": [
       "array([[1, 0, 0],\n",
       "       [0, 2, 0],\n",
       "       [0, 0, 3]])"
      ]
     },
     "execution_count": 101,
     "metadata": {},
     "output_type": "execute_result"
    }
   ],
   "source": [
    "np.array([\n",
    "    [1,0,0],\n",
    "    [0,2,0],\n",
    "    [0,0,3]\n",
    "])"
   ]
  },
  {
   "cell_type": "markdown",
   "id": "75bb6c68-cf9c-4111-a064-4bc86a3bab8e",
   "metadata": {},
   "source": [
    "#### Transpose of a matrix"
   ]
  },
  {
   "cell_type": "code",
   "execution_count": 102,
   "id": "337b57a2-6e9e-446a-a62c-0c524b050588",
   "metadata": {},
   "outputs": [
    {
     "data": {
      "text/plain": [
       "array([[94, 78, 27],\n",
       "       [90, 44, 45],\n",
       "       [52, 27, 13]], dtype=int32)"
      ]
     },
     "execution_count": 102,
     "metadata": {},
     "output_type": "execute_result"
    }
   ],
   "source": [
    "np.random.randint(0,100, (3,3))"
   ]
  },
  {
   "cell_type": "code",
   "execution_count": 105,
   "id": "7ade0edc-714f-40f8-ada9-bcb198de1501",
   "metadata": {},
   "outputs": [
    {
     "data": {
      "text/plain": [
       "array([[2, 7, 6, 1, 5, 9, 5, 4],\n",
       "       [6, 6, 9, 1, 0, 2, 7, 9],\n",
       "       [5, 6, 2, 3, 2, 8, 6, 0]], dtype=int32)"
      ]
     },
     "execution_count": 105,
     "metadata": {},
     "output_type": "execute_result"
    }
   ],
   "source": [
    "arr"
   ]
  },
  {
   "cell_type": "code",
   "execution_count": 104,
   "id": "19f1fbae-168b-467d-9c82-6030ff547e75",
   "metadata": {},
   "outputs": [
    {
     "data": {
      "text/plain": [
       "array([[2, 6, 5],\n",
       "       [7, 6, 6],\n",
       "       [6, 9, 2],\n",
       "       [1, 1, 3],\n",
       "       [5, 0, 2],\n",
       "       [9, 2, 8],\n",
       "       [5, 7, 6],\n",
       "       [4, 9, 0]], dtype=int32)"
      ]
     },
     "execution_count": 104,
     "metadata": {},
     "output_type": "execute_result"
    }
   ],
   "source": [
    "arr.transpose()"
   ]
  },
  {
   "cell_type": "code",
   "execution_count": null,
   "id": "a0b9deca-8bd3-4762-9849-4c45b3c67fcd",
   "metadata": {},
   "outputs": [],
   "source": []
  }
 ],
 "metadata": {
  "kernelspec": {
   "display_name": "Python 3 (ipykernel)",
   "language": "python",
   "name": "python3"
  },
  "language_info": {
   "codemirror_mode": {
    "name": "ipython",
    "version": 3
   },
   "file_extension": ".py",
   "mimetype": "text/x-python",
   "name": "python",
   "nbconvert_exporter": "python",
   "pygments_lexer": "ipython3",
   "version": "3.13.5"
  }
 },
 "nbformat": 4,
 "nbformat_minor": 5
}
