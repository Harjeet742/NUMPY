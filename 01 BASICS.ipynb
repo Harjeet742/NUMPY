{
 "cells": [
  {
   "cell_type": "code",
   "execution_count": 1,
   "id": "504a9a3d-b954-46aa-84f4-1cdd55952472",
   "metadata": {},
   "outputs": [
    {
     "name": "stdout",
     "output_type": "stream",
     "text": [
      "Defaulting to user installation because normal site-packages is not writeable\n",
      "Requirement already satisfied: numpy in c:\\programdata\\anaconda3\\lib\\site-packages (2.1.3)\n",
      "Note: you may need to restart the kernel to use updated packages.\n"
     ]
    }
   ],
   "source": [
    "pip install numpy"
   ]
  },
  {
   "cell_type": "markdown",
   "id": "13bce71a-516e-49bd-a1cc-5e946ad50705",
   "metadata": {},
   "source": [
    "# import numpy"
   ]
  },
  {
   "cell_type": "code",
   "execution_count": 1,
   "id": "0efb3e25-1d1f-4278-b2fc-dc7a4abffbc6",
   "metadata": {},
   "outputs": [],
   "source": [
    "import numpy as np"
   ]
  },
  {
   "cell_type": "code",
   "execution_count": 8,
   "id": "f65ec7d1-b4ef-4ae4-a0e7-6373ac93dd50",
   "metadata": {},
   "outputs": [],
   "source": [
    "numList = [5,1,3]"
   ]
  },
  {
   "cell_type": "code",
   "execution_count": 9,
   "id": "21a1d799-1477-4489-862f-6a2c747c248a",
   "metadata": {},
   "outputs": [],
   "source": [
    "floatList = [5.3, 1.1, 3.4]"
   ]
  },
  {
   "cell_type": "code",
   "execution_count": 10,
   "id": "8c46c9b0-5280-4be3-87e7-c08b238da18c",
   "metadata": {},
   "outputs": [],
   "source": [
    "textList = ['harry', 'sahil', 'ujjwal']"
   ]
  },
  {
   "cell_type": "code",
   "execution_count": 11,
   "id": "72b817d3-c950-40ea-a2d3-55c8b779323a",
   "metadata": {},
   "outputs": [],
   "source": [
    "boolList = [True, False, True]"
   ]
  },
  {
   "cell_type": "code",
   "execution_count": 12,
   "id": "bebae466-ded5-49ee-89ea-990cd035edf8",
   "metadata": {},
   "outputs": [],
   "source": [
    "numArr = np.array(numList)"
   ]
  },
  {
   "cell_type": "code",
   "execution_count": 13,
   "id": "61164437-ab91-4de4-94b3-338ac8c7e703",
   "metadata": {},
   "outputs": [
    {
     "name": "stdout",
     "output_type": "stream",
     "text": [
      "[5 1 3]\n"
     ]
    }
   ],
   "source": [
    "print(numArr)"
   ]
  },
  {
   "cell_type": "code",
   "execution_count": 14,
   "id": "644b7acf-8f19-462a-9e84-a4ae563a2f85",
   "metadata": {},
   "outputs": [
    {
     "data": {
      "text/plain": [
       "array([5, 1, 3])"
      ]
     },
     "execution_count": 14,
     "metadata": {},
     "output_type": "execute_result"
    }
   ],
   "source": [
    "numArr"
   ]
  },
  {
   "cell_type": "code",
   "execution_count": 15,
   "id": "2cf89679-5b3a-409f-ba56-8d9a6e657efb",
   "metadata": {},
   "outputs": [
    {
     "data": {
      "text/plain": [
       "[5.3, 1.1, 3.4]"
      ]
     },
     "execution_count": 15,
     "metadata": {},
     "output_type": "execute_result"
    }
   ],
   "source": [
    "floatList"
   ]
  },
  {
   "cell_type": "code",
   "execution_count": 16,
   "id": "182b4b44-edc2-45c6-a40c-b4abd5bd26dc",
   "metadata": {},
   "outputs": [],
   "source": [
    "floatArr = np.array(floatList)"
   ]
  },
  {
   "cell_type": "code",
   "execution_count": 17,
   "id": "3742c7e6-ec89-4c17-864a-327409b4ae3e",
   "metadata": {},
   "outputs": [
    {
     "data": {
      "text/plain": [
       "dtype('float64')"
      ]
     },
     "execution_count": 17,
     "metadata": {},
     "output_type": "execute_result"
    }
   ],
   "source": [
    "floatArr.dtype"
   ]
  },
  {
   "cell_type": "code",
   "execution_count": 18,
   "id": "3d8fbafb-b44d-4118-9006-7415c65f8e08",
   "metadata": {},
   "outputs": [
    {
     "data": {
      "text/plain": [
       "array([5.3, 1.1, 3.4])"
      ]
     },
     "execution_count": 18,
     "metadata": {},
     "output_type": "execute_result"
    }
   ],
   "source": [
    "floatArr"
   ]
  },
  {
   "cell_type": "code",
   "execution_count": 19,
   "id": "6c188a61-0459-4398-a493-888a9a17361c",
   "metadata": {},
   "outputs": [
    {
     "name": "stdout",
     "output_type": "stream",
     "text": [
      "[5.3 1.1 3.4]\n"
     ]
    }
   ],
   "source": [
    "print(floatArr)"
   ]
  },
  {
   "cell_type": "code",
   "execution_count": 20,
   "id": "bd2b6e13-4993-458f-a779-de820e64b814",
   "metadata": {},
   "outputs": [],
   "source": [
    "textArr = np.array(textList)"
   ]
  },
  {
   "cell_type": "code",
   "execution_count": 21,
   "id": "b592ec44-e8c8-46c2-9752-ad652d86f01a",
   "metadata": {},
   "outputs": [
    {
     "data": {
      "text/plain": [
       "array(['harry', 'sahil', 'ujjwal'], dtype='<U6')"
      ]
     },
     "execution_count": 21,
     "metadata": {},
     "output_type": "execute_result"
    }
   ],
   "source": [
    "textArr"
   ]
  },
  {
   "cell_type": "code",
   "execution_count": 22,
   "id": "944ac719-f857-4ee9-a5af-d9b5c2db353d",
   "metadata": {},
   "outputs": [
    {
     "data": {
      "text/plain": [
       "dtype('<U6')"
      ]
     },
     "execution_count": 22,
     "metadata": {},
     "output_type": "execute_result"
    }
   ],
   "source": [
    "textArr.dtype"
   ]
  },
  {
   "cell_type": "code",
   "execution_count": 24,
   "id": "8e22585e-24f7-463f-a0f5-29f5550fbc80",
   "metadata": {},
   "outputs": [],
   "source": [
    "boolArr = np.array(boolList)"
   ]
  },
  {
   "cell_type": "code",
   "execution_count": 25,
   "id": "2a5f360f-6ec6-4d0e-8436-2ca1dafded3d",
   "metadata": {},
   "outputs": [
    {
     "data": {
      "text/plain": [
       "array([ True, False,  True])"
      ]
     },
     "execution_count": 25,
     "metadata": {},
     "output_type": "execute_result"
    }
   ],
   "source": [
    "boolArr"
   ]
  },
  {
   "cell_type": "code",
   "execution_count": 26,
   "id": "3e491fe3-bbc3-41f5-abf2-f764f513de68",
   "metadata": {},
   "outputs": [
    {
     "data": {
      "text/plain": [
       "dtype('bool')"
      ]
     },
     "execution_count": 26,
     "metadata": {},
     "output_type": "execute_result"
    }
   ],
   "source": [
    "boolArr.dtype"
   ]
  },
  {
   "cell_type": "code",
   "execution_count": 27,
   "id": "eb076efe-42d5-49f5-92c9-61126770dfa3",
   "metadata": {},
   "outputs": [
    {
     "name": "stdout",
     "output_type": "stream",
     "text": [
      "[ True False  True]\n"
     ]
    }
   ],
   "source": [
    "print(boolArr)"
   ]
  },
  {
   "cell_type": "code",
   "execution_count": 29,
   "id": "f99b2933-14fb-471a-91ae-26abe7868091",
   "metadata": {},
   "outputs": [
    {
     "data": {
      "text/plain": [
       "array(['5', '6.3', 'True', 'happy'], dtype='<U32')"
      ]
     },
     "execution_count": 29,
     "metadata": {},
     "output_type": "execute_result"
    }
   ],
   "source": [
    "np.array([5,6.3, True, 'happy'])"
   ]
  },
  {
   "cell_type": "code",
   "execution_count": 32,
   "id": "191e5ebf-9790-4fd4-8926-29a6089905c7",
   "metadata": {},
   "outputs": [],
   "source": [
    "arr = np.array([45, 5, 6, 7, 3, 9, 45, 23, 89, 98, 5])"
   ]
  },
  {
   "cell_type": "code",
   "execution_count": 33,
   "id": "040c3c66-f909-4165-b51c-33764f71482e",
   "metadata": {},
   "outputs": [
    {
     "data": {
      "text/plain": [
       "array([45,  5,  6,  7,  3,  9, 45, 23, 89, 98,  5])"
      ]
     },
     "execution_count": 33,
     "metadata": {},
     "output_type": "execute_result"
    }
   ],
   "source": [
    "arr"
   ]
  },
  {
   "cell_type": "code",
   "execution_count": 34,
   "id": "ba9d66be-69e1-4b22-9587-16850d9eb07f",
   "metadata": {},
   "outputs": [
    {
     "name": "stdout",
     "output_type": "stream",
     "text": [
      "[45  5  6  7  3  9 45 23 89 98  5]\n"
     ]
    }
   ],
   "source": [
    "print(arr)"
   ]
  },
  {
   "cell_type": "code",
   "execution_count": 35,
   "id": "6987afc4-ead5-48fc-852c-c20299f13b19",
   "metadata": {},
   "outputs": [
    {
     "data": {
      "text/plain": [
       "1"
      ]
     },
     "execution_count": 35,
     "metadata": {},
     "output_type": "execute_result"
    }
   ],
   "source": [
    "arr.ndim"
   ]
  },
  {
   "cell_type": "code",
   "execution_count": 36,
   "id": "d2a19233-09b1-4561-9f71-f56ce7d16b7f",
   "metadata": {},
   "outputs": [
    {
     "data": {
      "text/plain": [
       "11"
      ]
     },
     "execution_count": 36,
     "metadata": {},
     "output_type": "execute_result"
    }
   ],
   "source": [
    "# give counting of total \n",
    "arr.size"
   ]
  },
  {
   "cell_type": "code",
   "execution_count": 37,
   "id": "b598695b-eb62-4373-8773-c8ca6cdeb8c9",
   "metadata": {
    "scrolled": true
   },
   "outputs": [
    {
     "data": {
      "text/plain": [
       "(11,)"
      ]
     },
     "execution_count": 37,
     "metadata": {},
     "output_type": "execute_result"
    }
   ],
   "source": [
    "arr.shape"
   ]
  },
  {
   "cell_type": "markdown",
   "id": "9800e67b-9f25-4375-9343-5e5f3f32c125",
   "metadata": {},
   "source": [
    "# scalar\n",
    "### which consists only single value either it is int or string"
   ]
  },
  {
   "cell_type": "code",
   "execution_count": 58,
   "id": "df8f9990-f470-4e2c-9f81-1f451d166277",
   "metadata": {},
   "outputs": [],
   "source": [
    "scalar = np.array(['harry'])"
   ]
  },
  {
   "cell_type": "code",
   "execution_count": 59,
   "id": "13aca776-b2ef-4063-adb7-e29eb9304ec2",
   "metadata": {},
   "outputs": [
    {
     "data": {
      "text/plain": [
       "array(['harry'], dtype='<U5')"
      ]
     },
     "execution_count": 59,
     "metadata": {},
     "output_type": "execute_result"
    }
   ],
   "source": [
    "scalar"
   ]
  },
  {
   "cell_type": "code",
   "execution_count": 60,
   "id": "736e9f44-5ff3-4dea-bb08-28ff86599de8",
   "metadata": {},
   "outputs": [
    {
     "name": "stdout",
     "output_type": "stream",
     "text": [
      "['harry']\n"
     ]
    }
   ],
   "source": [
    "print(scalar)"
   ]
  },
  {
   "cell_type": "code",
   "execution_count": 61,
   "id": "823c106a-d508-4917-aae5-54c2d67287b6",
   "metadata": {},
   "outputs": [
    {
     "data": {
      "text/plain": [
       "dtype('<U5')"
      ]
     },
     "execution_count": 61,
     "metadata": {},
     "output_type": "execute_result"
    }
   ],
   "source": [
    "scalar.dtype"
   ]
  },
  {
   "cell_type": "code",
   "execution_count": 62,
   "id": "e53e546a-be7f-4216-9236-2bfb166ba90e",
   "metadata": {},
   "outputs": [
    {
     "data": {
      "text/plain": [
       "(1,)"
      ]
     },
     "execution_count": 62,
     "metadata": {},
     "output_type": "execute_result"
    }
   ],
   "source": [
    "scalar.shape"
   ]
  },
  {
   "cell_type": "code",
   "execution_count": 63,
   "id": "a147bc6c-256e-48b7-a755-877a249ee0ed",
   "metadata": {},
   "outputs": [
    {
     "data": {
      "text/plain": [
       "1"
      ]
     },
     "execution_count": 63,
     "metadata": {},
     "output_type": "execute_result"
    }
   ],
   "source": [
    "scalar.size"
   ]
  },
  {
   "cell_type": "code",
   "execution_count": 64,
   "id": "6f14cff2-8cf5-4fd1-931e-dd3e286b1643",
   "metadata": {},
   "outputs": [
    {
     "data": {
      "text/plain": [
       "1"
      ]
     },
     "execution_count": 64,
     "metadata": {},
     "output_type": "execute_result"
    }
   ],
   "source": [
    "scalar.ndim"
   ]
  },
  {
   "cell_type": "markdown",
   "id": "d66851cc-dd4c-443f-9514-60f9dc478fa9",
   "metadata": {},
   "source": [
    "# vector\n",
    "### it consists sequence of numbers"
   ]
  },
  {
   "cell_type": "code",
   "execution_count": 67,
   "id": "21782dc8-8ddd-4476-8430-6238adf3ecb0",
   "metadata": {},
   "outputs": [],
   "source": [
    "vector = np.array([5,2,3,5])"
   ]
  },
  {
   "cell_type": "code",
   "execution_count": 68,
   "id": "e46037f0-3c98-478f-8194-31a357fb57d9",
   "metadata": {},
   "outputs": [
    {
     "data": {
      "text/plain": [
       "array([5, 2, 3, 5])"
      ]
     },
     "execution_count": 68,
     "metadata": {},
     "output_type": "execute_result"
    }
   ],
   "source": [
    "vector"
   ]
  },
  {
   "cell_type": "code",
   "execution_count": 69,
   "id": "ae6dcf16-ff61-4d4c-b7f9-6f088981a810",
   "metadata": {},
   "outputs": [
    {
     "name": "stdout",
     "output_type": "stream",
     "text": [
      "[5 2 3 5]\n"
     ]
    }
   ],
   "source": [
    "print(vector)"
   ]
  },
  {
   "cell_type": "code",
   "execution_count": 70,
   "id": "341552b6-1095-4ae8-9446-530c438f5e8f",
   "metadata": {},
   "outputs": [
    {
     "data": {
      "text/plain": [
       "1"
      ]
     },
     "execution_count": 70,
     "metadata": {},
     "output_type": "execute_result"
    }
   ],
   "source": [
    "vector.ndim"
   ]
  },
  {
   "cell_type": "code",
   "execution_count": 54,
   "id": "ee328de9-4c94-433c-ac66-8b492317fbaf",
   "metadata": {},
   "outputs": [
    {
     "data": {
      "text/plain": [
       "4"
      ]
     },
     "execution_count": 54,
     "metadata": {},
     "output_type": "execute_result"
    }
   ],
   "source": [
    "vector.size"
   ]
  },
  {
   "cell_type": "code",
   "execution_count": 55,
   "id": "791fe808-5f0a-419d-a62b-24883930b16f",
   "metadata": {},
   "outputs": [
    {
     "data": {
      "text/plain": [
       "(4,)"
      ]
     },
     "execution_count": 55,
     "metadata": {},
     "output_type": "execute_result"
    }
   ],
   "source": [
    "vector.shape"
   ]
  },
  {
   "cell_type": "markdown",
   "id": "26e8b074-fff7-4cd8-ba6b-22f42c13a7f0",
   "metadata": {},
   "source": [
    "# matrix\n",
    "    it is a collection of lot of vector"
   ]
  },
  {
   "cell_type": "code",
   "execution_count": 65,
   "id": "b296e688-47d7-4d8b-a64e-15b6cf45f17e",
   "metadata": {},
   "outputs": [],
   "source": [
    "matrix = np.array(\n",
    "    [\n",
    "        [1,2,3],\n",
    "        [4,5,6],\n",
    "        [7,8,9]\n",
    "        \n",
    "    ]\n",
    ")"
   ]
  },
  {
   "cell_type": "code",
   "execution_count": 66,
   "id": "6103cfc8-b7f8-4b3b-a161-713bda49fcde",
   "metadata": {},
   "outputs": [
    {
     "data": {
      "text/plain": [
       "array([[1, 2, 3],\n",
       "       [4, 5, 6],\n",
       "       [7, 8, 9]])"
      ]
     },
     "execution_count": 66,
     "metadata": {},
     "output_type": "execute_result"
    }
   ],
   "source": [
    "matrix"
   ]
  },
  {
   "cell_type": "code",
   "execution_count": 67,
   "id": "4644d1b8-47e9-4b5d-8dfc-0706f425baa3",
   "metadata": {},
   "outputs": [
    {
     "data": {
      "text/plain": [
       "9"
      ]
     },
     "execution_count": 67,
     "metadata": {},
     "output_type": "execute_result"
    }
   ],
   "source": [
    "matrix.size"
   ]
  },
  {
   "cell_type": "code",
   "execution_count": 68,
   "id": "ebd54a9c-b06f-4133-af4b-245e572d5749",
   "metadata": {},
   "outputs": [
    {
     "data": {
      "text/plain": [
       "(3, 3)"
      ]
     },
     "execution_count": 68,
     "metadata": {},
     "output_type": "execute_result"
    }
   ],
   "source": [
    "matrix.shape"
   ]
  },
  {
   "cell_type": "code",
   "execution_count": 69,
   "id": "ac185241-f2ab-4abd-9def-7e6174d487b4",
   "metadata": {},
   "outputs": [
    {
     "data": {
      "text/plain": [
       "2"
      ]
     },
     "execution_count": 69,
     "metadata": {},
     "output_type": "execute_result"
    }
   ],
   "source": [
    "matrix.ndim"
   ]
  },
  {
   "cell_type": "code",
   "execution_count": 70,
   "id": "d1e7b999-fb3c-4e1c-86bc-f98248bbcff2",
   "metadata": {},
   "outputs": [
    {
     "data": {
      "text/plain": [
       "dtype('int64')"
      ]
     },
     "execution_count": 70,
     "metadata": {},
     "output_type": "execute_result"
    }
   ],
   "source": [
    "matrix.dtype"
   ]
  },
  {
   "cell_type": "code",
   "execution_count": 71,
   "id": "063fa10e-5e81-4eff-b75a-20d93d91fd27",
   "metadata": {},
   "outputs": [
    {
     "name": "stdout",
     "output_type": "stream",
     "text": [
      "[[1 2 3]\n",
      " [4 5 6]\n",
      " [7 8 9]]\n"
     ]
    }
   ],
   "source": [
    "print(matrix)"
   ]
  },
  {
   "cell_type": "code",
   "execution_count": 72,
   "id": "a96be27b-9ba7-4473-9eb0-11b89e500702",
   "metadata": {},
   "outputs": [],
   "source": [
    "matrix = np.array(\n",
    "    [\n",
    "        [1,2,3,4],\n",
    "        [5,6,7,8],\n",
    "        [9,10,11,12]\n",
    "    ]\n",
    ")"
   ]
  },
  {
   "cell_type": "code",
   "execution_count": 73,
   "id": "f48bb1f0-3a53-4e2b-92cc-fbc51cbdfcd9",
   "metadata": {},
   "outputs": [
    {
     "data": {
      "text/plain": [
       "2"
      ]
     },
     "execution_count": 73,
     "metadata": {},
     "output_type": "execute_result"
    }
   ],
   "source": [
    "matrix.ndim"
   ]
  },
  {
   "cell_type": "code",
   "execution_count": 74,
   "id": "d9234c90-20c9-42cc-8092-0e4984caa676",
   "metadata": {},
   "outputs": [
    {
     "data": {
      "text/plain": [
       "(3, 4)"
      ]
     },
     "execution_count": 74,
     "metadata": {},
     "output_type": "execute_result"
    }
   ],
   "source": [
    "matrix.shape"
   ]
  },
  {
   "cell_type": "code",
   "execution_count": 75,
   "id": "4cd52561-a906-490f-8edd-2de924a083e8",
   "metadata": {},
   "outputs": [
    {
     "data": {
      "text/plain": [
       "12"
      ]
     },
     "execution_count": 75,
     "metadata": {},
     "output_type": "execute_result"
    }
   ],
   "source": [
    "matrix.size"
   ]
  },
  {
   "cell_type": "code",
   "execution_count": 77,
   "id": "33bfc974-9034-490c-ac6f-5ce8bd612e84",
   "metadata": {},
   "outputs": [
    {
     "data": {
      "text/plain": [
       "dtype('int64')"
      ]
     },
     "execution_count": 77,
     "metadata": {},
     "output_type": "execute_result"
    }
   ],
   "source": [
    "matrix.dtype"
   ]
  },
  {
   "cell_type": "code",
   "execution_count": 78,
   "id": "c42e5cd1-407d-4afb-9a6e-15ac646b708d",
   "metadata": {},
   "outputs": [
    {
     "data": {
      "text/plain": [
       "array([[ 1,  2,  3,  4],\n",
       "       [ 5,  6,  7,  8],\n",
       "       [ 9, 10, 11, 12]])"
      ]
     },
     "execution_count": 78,
     "metadata": {},
     "output_type": "execute_result"
    }
   ],
   "source": [
    "matrix"
   ]
  },
  {
   "cell_type": "code",
   "execution_count": 79,
   "id": "2911409e-0af8-4542-971b-c63a1d4d6a2f",
   "metadata": {},
   "outputs": [
    {
     "name": "stdout",
     "output_type": "stream",
     "text": [
      "[[ 1  2  3  4]\n",
      " [ 5  6  7  8]\n",
      " [ 9 10 11 12]]\n"
     ]
    }
   ],
   "source": [
    "print(matrix)"
   ]
  },
  {
   "cell_type": "markdown",
   "id": "f2faf60f-d3c1-4d03-9d19-414e7b3e60bc",
   "metadata": {},
   "source": [
    "# Tensor\n",
    "### it is a multi-dimensional array"
   ]
  },
  {
   "cell_type": "code",
   "execution_count": 72,
   "id": "7ce3c927-73f7-4fcf-9789-2d260b198911",
   "metadata": {},
   "outputs": [],
   "source": [
    "tensor = np.array([\n",
    "    [\n",
    "        [1,2],\n",
    "        [3,4]\n",
    "    ],\n",
    "\n",
    "    [\n",
    "        [5,6],\n",
    "        [7,8]\n",
    "    ],\n",
    "\n",
    "    [\n",
    "        [9,10],\n",
    "        [11,12]\n",
    "    ]\n",
    "    ])\n",
    "    "
   ]
  },
  {
   "cell_type": "code",
   "execution_count": 73,
   "id": "5a3b1574-2f77-4553-9047-744e3aad7c62",
   "metadata": {},
   "outputs": [
    {
     "data": {
      "text/plain": [
       "(3, 2, 2)"
      ]
     },
     "execution_count": 73,
     "metadata": {},
     "output_type": "execute_result"
    }
   ],
   "source": [
    "tensor.shape"
   ]
  },
  {
   "cell_type": "code",
   "execution_count": 87,
   "id": "8a6eaf00-c912-401f-9dd6-76c467832341",
   "metadata": {},
   "outputs": [
    {
     "data": {
      "text/plain": [
       "12"
      ]
     },
     "execution_count": 87,
     "metadata": {},
     "output_type": "execute_result"
    }
   ],
   "source": [
    "tensor.size"
   ]
  },
  {
   "cell_type": "code",
   "execution_count": 88,
   "id": "f55bdf75-e9cf-4882-9b96-02afb1b9b888",
   "metadata": {},
   "outputs": [
    {
     "data": {
      "text/plain": [
       "3"
      ]
     },
     "execution_count": 88,
     "metadata": {},
     "output_type": "execute_result"
    }
   ],
   "source": [
    "tensor.ndim"
   ]
  },
  {
   "cell_type": "code",
   "execution_count": 89,
   "id": "6bdeddc6-f5c5-4aae-904b-1237e8a82a1c",
   "metadata": {},
   "outputs": [
    {
     "name": "stdout",
     "output_type": "stream",
     "text": [
      "[[[ 1  2]\n",
      "  [ 3  4]]\n",
      "\n",
      " [[ 5  6]\n",
      "  [ 7  8]]\n",
      "\n",
      " [[ 9 10]\n",
      "  [11 12]]]\n"
     ]
    }
   ],
   "source": [
    "print(tensor)"
   ]
  },
  {
   "cell_type": "code",
   "execution_count": 90,
   "id": "796f2246-724b-4832-8217-136c386a2c70",
   "metadata": {
    "scrolled": true
   },
   "outputs": [
    {
     "data": {
      "text/plain": [
       "dtype('int64')"
      ]
     },
     "execution_count": 90,
     "metadata": {},
     "output_type": "execute_result"
    }
   ],
   "source": [
    "tensor.dtype"
   ]
  },
  {
   "cell_type": "code",
   "execution_count": 191,
   "id": "47232e83-6d36-4f9e-bd1d-fb4f88909c20",
   "metadata": {},
   "outputs": [],
   "source": [
    "tensor = np.array([\n",
    "    [\n",
    "        [1,2,3,4],\n",
    "        [5,6,7,8]\n",
    "    ],\n",
    "\n",
    "    [\n",
    "        [9,10,11,12],\n",
    "        [13,14,15,16]\n",
    "    ],\n",
    "\n",
    "    [\n",
    "        [17,18,19,20],\n",
    "        [21,22,23,24]\n",
    "    ],\n",
    "\n",
    "    [\n",
    "        [25,26,27,28],\n",
    "        [29,30,31,32]\n",
    "    ],\n",
    "\n",
    "    [\n",
    "        [33,34,35,36],\n",
    "        [37,38,39,40]\n",
    "    ]\n",
    "\n",
    "    \n",
    "])"
   ]
  },
  {
   "cell_type": "code",
   "execution_count": 219,
   "id": "9557313c-7e05-45bf-a0df-991954e19706",
   "metadata": {},
   "outputs": [
    {
     "data": {
      "text/plain": [
       "(5, 2, 4)"
      ]
     },
     "execution_count": 219,
     "metadata": {},
     "output_type": "execute_result"
    }
   ],
   "source": [
    "tensor.shape"
   ]
  },
  {
   "cell_type": "code",
   "execution_count": 220,
   "id": "c35b9800-abe6-45bc-9967-6933b9df6685",
   "metadata": {},
   "outputs": [
    {
     "data": {
      "text/plain": [
       "40"
      ]
     },
     "execution_count": 220,
     "metadata": {},
     "output_type": "execute_result"
    }
   ],
   "source": [
    "tensor.size"
   ]
  },
  {
   "cell_type": "code",
   "execution_count": 221,
   "id": "6e75aee7-3d99-40c4-8848-a004366b488d",
   "metadata": {},
   "outputs": [
    {
     "data": {
      "text/plain": [
       "3"
      ]
     },
     "execution_count": 221,
     "metadata": {},
     "output_type": "execute_result"
    }
   ],
   "source": [
    "tensor.ndim"
   ]
  },
  {
   "cell_type": "code",
   "execution_count": 222,
   "id": "87ca8d55-31ba-4e1c-9955-8bc1fc8d1b08",
   "metadata": {},
   "outputs": [
    {
     "name": "stdout",
     "output_type": "stream",
     "text": [
      "[[[ 1  2  3  4]\n",
      "  [ 5  6  7  8]]\n",
      "\n",
      " [[ 9 10 11 12]\n",
      "  [13 14 15 16]]\n",
      "\n",
      " [[17 18 19 20]\n",
      "  [21 22 23 24]]\n",
      "\n",
      " [[25 26 27 28]\n",
      "  [29 30 31 32]]\n",
      "\n",
      " [[33 34 35 36]\n",
      "  [37 38 39 40]]]\n"
     ]
    }
   ],
   "source": [
    "print(tensor)"
   ]
  },
  {
   "cell_type": "markdown",
   "id": "08007ac0-b2fe-4e1b-b0a0-abebacb25cfa",
   "metadata": {},
   "source": [
    "# Reshape\n",
    "### it means changing the shape without changing array's data"
   ]
  },
  {
   "cell_type": "code",
   "execution_count": 105,
   "id": "7909a9d9-f760-425b-bb2f-0edec8ea710f",
   "metadata": {},
   "outputs": [],
   "source": [
    "arr = np.array([1,2,3,4,5,6,7,8,9,10,11,12])"
   ]
  },
  {
   "cell_type": "code",
   "execution_count": 106,
   "id": "7fd850bb-1714-4b3b-a81a-8328b907b107",
   "metadata": {},
   "outputs": [
    {
     "data": {
      "text/plain": [
       "dtype('int64')"
      ]
     },
     "execution_count": 106,
     "metadata": {},
     "output_type": "execute_result"
    }
   ],
   "source": [
    "arr.dtype"
   ]
  },
  {
   "cell_type": "code",
   "execution_count": 107,
   "id": "70d48da0-9cc6-4ec6-90ae-e7e964e0fa3f",
   "metadata": {},
   "outputs": [
    {
     "data": {
      "text/plain": [
       "(12,)"
      ]
     },
     "execution_count": 107,
     "metadata": {},
     "output_type": "execute_result"
    }
   ],
   "source": [
    "arr.shape"
   ]
  },
  {
   "cell_type": "code",
   "execution_count": 108,
   "id": "b069acd6-b8f6-4d74-bb9a-92ad424b0d1d",
   "metadata": {},
   "outputs": [
    {
     "data": {
      "text/plain": [
       "12"
      ]
     },
     "execution_count": 108,
     "metadata": {},
     "output_type": "execute_result"
    }
   ],
   "source": [
    "arr.size"
   ]
  },
  {
   "cell_type": "code",
   "execution_count": 109,
   "id": "cfceb6bb-1249-40c7-829f-965b2c3a6c80",
   "metadata": {},
   "outputs": [
    {
     "data": {
      "text/plain": [
       "1"
      ]
     },
     "execution_count": 109,
     "metadata": {},
     "output_type": "execute_result"
    }
   ],
   "source": [
    "arr.ndim"
   ]
  },
  {
   "cell_type": "code",
   "execution_count": 114,
   "id": "07552ada-3555-4de4-ad63-776f142fd6f5",
   "metadata": {},
   "outputs": [
    {
     "data": {
      "text/plain": [
       "array([[ 1,  2,  3,  4,  5,  6,  7,  8,  9, 10, 11, 12]])"
      ]
     },
     "execution_count": 114,
     "metadata": {},
     "output_type": "execute_result"
    }
   ],
   "source": [
    "arr.reshape(1,12)"
   ]
  },
  {
   "cell_type": "code",
   "execution_count": 111,
   "id": "7eec4c39-c9a3-4e57-a7a0-48f797230b24",
   "metadata": {},
   "outputs": [
    {
     "data": {
      "text/plain": [
       "array([ 1,  2,  3,  4,  5,  6,  7,  8,  9, 10, 11, 12])"
      ]
     },
     "execution_count": 111,
     "metadata": {},
     "output_type": "execute_result"
    }
   ],
   "source": [
    "arr.reshape(12)"
   ]
  },
  {
   "cell_type": "code",
   "execution_count": 111,
   "id": "9c53b911-52a6-4e7e-8495-c18b3a97e13e",
   "metadata": {},
   "outputs": [
    {
     "data": {
      "text/plain": [
       "array([[ 1],\n",
       "       [ 2],\n",
       "       [ 3],\n",
       "       [ 4],\n",
       "       [ 5],\n",
       "       [ 6],\n",
       "       [ 7],\n",
       "       [ 8],\n",
       "       [ 9],\n",
       "       [10],\n",
       "       [11],\n",
       "       [12]])"
      ]
     },
     "execution_count": 111,
     "metadata": {},
     "output_type": "execute_result"
    }
   ],
   "source": [
    "arr.reshape(12,1)"
   ]
  },
  {
   "cell_type": "code",
   "execution_count": 116,
   "id": "457bd3eb-4305-4bf0-9460-15e1d27895de",
   "metadata": {},
   "outputs": [
    {
     "data": {
      "text/plain": [
       "array([[ 1,  2],\n",
       "       [ 3,  4],\n",
       "       [ 5,  6],\n",
       "       [ 7,  8],\n",
       "       [ 9, 10],\n",
       "       [11, 12]])"
      ]
     },
     "execution_count": 116,
     "metadata": {},
     "output_type": "execute_result"
    }
   ],
   "source": [
    "arr.reshape(6,2)"
   ]
  },
  {
   "cell_type": "code",
   "execution_count": 117,
   "id": "d0b8a4d7-5dfd-4c73-bc3c-da25ae012964",
   "metadata": {},
   "outputs": [
    {
     "data": {
      "text/plain": [
       "array([[ 1,  2,  3,  4,  5,  6],\n",
       "       [ 7,  8,  9, 10, 11, 12]])"
      ]
     },
     "execution_count": 117,
     "metadata": {},
     "output_type": "execute_result"
    }
   ],
   "source": [
    "arr.reshape(2,6)"
   ]
  },
  {
   "cell_type": "code",
   "execution_count": 118,
   "id": "0b6ffc1e-bd08-4c4d-9d71-94a62de3d6cf",
   "metadata": {},
   "outputs": [
    {
     "data": {
      "text/plain": [
       "array([[[ 1,  2],\n",
       "        [ 3,  4],\n",
       "        [ 5,  6]],\n",
       "\n",
       "       [[ 7,  8],\n",
       "        [ 9, 10],\n",
       "        [11, 12]]])"
      ]
     },
     "execution_count": 118,
     "metadata": {},
     "output_type": "execute_result"
    }
   ],
   "source": [
    "arr.reshape(2,3,2)"
   ]
  },
  {
   "cell_type": "code",
   "execution_count": 139,
   "id": "fa22a217-fdf9-413f-aa61-9b4efd9672b1",
   "metadata": {},
   "outputs": [],
   "source": [
    "arr = np.array([x for x in range(1,25)])"
   ]
  },
  {
   "cell_type": "code",
   "execution_count": 140,
   "id": "62fd4dca-1bbd-4ce0-a29e-b1e1f4440f6a",
   "metadata": {},
   "outputs": [
    {
     "data": {
      "text/plain": [
       "array([ 1,  2,  3,  4,  5,  6,  7,  8,  9, 10, 11, 12, 13, 14, 15, 16, 17,\n",
       "       18, 19, 20, 21, 22, 23, 24])"
      ]
     },
     "execution_count": 140,
     "metadata": {},
     "output_type": "execute_result"
    }
   ],
   "source": [
    "arr"
   ]
  },
  {
   "cell_type": "code",
   "execution_count": 142,
   "id": "15ee74a3-f37c-4ed2-8b4f-6733c52dcbb9",
   "metadata": {},
   "outputs": [
    {
     "data": {
      "text/plain": [
       "array([[ 1,  2,  3,  4,  5,  6],\n",
       "       [ 7,  8,  9, 10, 11, 12],\n",
       "       [13, 14, 15, 16, 17, 18],\n",
       "       [19, 20, 21, 22, 23, 24]])"
      ]
     },
     "execution_count": 142,
     "metadata": {},
     "output_type": "execute_result"
    }
   ],
   "source": [
    "# ( -1 ) इसे हम \"unknown dimension\" या \"auto-infer dimension\" भी कह सकते हैं।\n",
    "arr.reshape(4, -1)"
   ]
  },
  {
   "cell_type": "code",
   "execution_count": 149,
   "id": "1d0d4b34-f4a4-45f3-b1f4-9c4332d0faec",
   "metadata": {},
   "outputs": [
    {
     "data": {
      "text/plain": [
       "array([[[ 1,  2,  3,  4],\n",
       "        [ 5,  6,  7,  8],\n",
       "        [ 9, 10, 11, 12]],\n",
       "\n",
       "       [[13, 14, 15, 16],\n",
       "        [17, 18, 19, 20],\n",
       "        [21, 22, 23, 24]]])"
      ]
     },
     "execution_count": 149,
     "metadata": {},
     "output_type": "execute_result"
    }
   ],
   "source": [
    "arr.reshape(2, 3, -1)"
   ]
  },
  {
   "cell_type": "code",
   "execution_count": 154,
   "id": "60f0d909-cab3-49d4-b57f-50539b4bb8f6",
   "metadata": {},
   "outputs": [
    {
     "data": {
      "text/plain": [
       "array([[[ 1,  2],\n",
       "        [ 3,  4],\n",
       "        [ 5,  6],\n",
       "        [ 7,  8]],\n",
       "\n",
       "       [[ 9, 10],\n",
       "        [11, 12],\n",
       "        [13, 14],\n",
       "        [15, 16]],\n",
       "\n",
       "       [[17, 18],\n",
       "        [19, 20],\n",
       "        [21, 22],\n",
       "        [23, 24]]])"
      ]
     },
     "execution_count": 154,
     "metadata": {},
     "output_type": "execute_result"
    }
   ],
   "source": [
    "arr.reshape(3,4,2)"
   ]
  },
  {
   "cell_type": "code",
   "execution_count": 188,
   "id": "763e2d9b-e8b7-4089-894e-1f7ae304c3d3",
   "metadata": {},
   "outputs": [],
   "source": [
    "arr = np.array([x for x in range(1,41)])"
   ]
  },
  {
   "cell_type": "code",
   "execution_count": 189,
   "id": "979e9bfc-22e8-45ad-9563-98b178cc5d30",
   "metadata": {},
   "outputs": [
    {
     "data": {
      "text/plain": [
       "array([ 1,  2,  3,  4,  5,  6,  7,  8,  9, 10, 11, 12, 13, 14, 15, 16, 17,\n",
       "       18, 19, 20, 21, 22, 23, 24, 25, 26, 27, 28, 29, 30, 31, 32, 33, 34,\n",
       "       35, 36, 37, 38, 39, 40])"
      ]
     },
     "execution_count": 189,
     "metadata": {},
     "output_type": "execute_result"
    }
   ],
   "source": [
    "arr"
   ]
  },
  {
   "cell_type": "code",
   "execution_count": 208,
   "id": "2d247f26-b4af-4708-82ae-1f6302bd565e",
   "metadata": {},
   "outputs": [
    {
     "data": {
      "text/plain": [
       "array([[ 1,  2,  3,  4,  5,  6,  7,  8,  9, 10],\n",
       "       [11, 12, 13, 14, 15, 16, 17, 18, 19, 20],\n",
       "       [21, 22, 23, 24, 25, 26, 27, 28, 29, 30],\n",
       "       [31, 32, 33, 34, 35, 36, 37, 38, 39, 40]])"
      ]
     },
     "execution_count": 208,
     "metadata": {},
     "output_type": "execute_result"
    }
   ],
   "source": [
    "arr.reshape(4, 10)"
   ]
  },
  {
   "cell_type": "code",
   "execution_count": 209,
   "id": "5deca274-1e35-43a1-98dd-e696342b85ee",
   "metadata": {},
   "outputs": [
    {
     "data": {
      "text/plain": [
       "array([[ 1,  2,  3,  4,  5,  6,  7,  8,  9, 10, 11, 12, 13, 14, 15, 16,\n",
       "        17, 18, 19, 20],\n",
       "       [21, 22, 23, 24, 25, 26, 27, 28, 29, 30, 31, 32, 33, 34, 35, 36,\n",
       "        37, 38, 39, 40]])"
      ]
     },
     "execution_count": 209,
     "metadata": {},
     "output_type": "execute_result"
    }
   ],
   "source": [
    "arr.reshape(2, 20)"
   ]
  },
  {
   "cell_type": "code",
   "execution_count": 210,
   "id": "71e80028-21ce-4a91-9879-360b1f5415fe",
   "metadata": {},
   "outputs": [
    {
     "data": {
      "text/plain": [
       "array([[ 1,  2,  3,  4,  5,  6,  7,  8],\n",
       "       [ 9, 10, 11, 12, 13, 14, 15, 16],\n",
       "       [17, 18, 19, 20, 21, 22, 23, 24],\n",
       "       [25, 26, 27, 28, 29, 30, 31, 32],\n",
       "       [33, 34, 35, 36, 37, 38, 39, 40]])"
      ]
     },
     "execution_count": 210,
     "metadata": {},
     "output_type": "execute_result"
    }
   ],
   "source": [
    "arr.reshape(5,8)"
   ]
  },
  {
   "cell_type": "code",
   "execution_count": 223,
   "id": "baba5e84-c814-4911-8ba5-6230d2ee30e1",
   "metadata": {},
   "outputs": [
    {
     "data": {
      "text/plain": [
       "array([[[ 1],\n",
       "        [ 2],\n",
       "        [ 3],\n",
       "        [ 4],\n",
       "        [ 5],\n",
       "        [ 6],\n",
       "        [ 7],\n",
       "        [ 8]],\n",
       "\n",
       "       [[ 9],\n",
       "        [10],\n",
       "        [11],\n",
       "        [12],\n",
       "        [13],\n",
       "        [14],\n",
       "        [15],\n",
       "        [16]],\n",
       "\n",
       "       [[17],\n",
       "        [18],\n",
       "        [19],\n",
       "        [20],\n",
       "        [21],\n",
       "        [22],\n",
       "        [23],\n",
       "        [24]],\n",
       "\n",
       "       [[25],\n",
       "        [26],\n",
       "        [27],\n",
       "        [28],\n",
       "        [29],\n",
       "        [30],\n",
       "        [31],\n",
       "        [32]],\n",
       "\n",
       "       [[33],\n",
       "        [34],\n",
       "        [35],\n",
       "        [36],\n",
       "        [37],\n",
       "        [38],\n",
       "        [39],\n",
       "        [40]]])"
      ]
     },
     "execution_count": 223,
     "metadata": {},
     "output_type": "execute_result"
    }
   ],
   "source": [
    "arr.reshape(5,8,-1)"
   ]
  },
  {
   "cell_type": "code",
   "execution_count": 224,
   "id": "f3d84e09-c699-417a-a556-14f74bcf0564",
   "metadata": {},
   "outputs": [
    {
     "data": {
      "text/plain": [
       "array([[[ 1,  2,  3,  4],\n",
       "        [ 5,  6,  7,  8]],\n",
       "\n",
       "       [[ 9, 10, 11, 12],\n",
       "        [13, 14, 15, 16]],\n",
       "\n",
       "       [[17, 18, 19, 20],\n",
       "        [21, 22, 23, 24]],\n",
       "\n",
       "       [[25, 26, 27, 28],\n",
       "        [29, 30, 31, 32]],\n",
       "\n",
       "       [[33, 34, 35, 36],\n",
       "        [37, 38, 39, 40]]])"
      ]
     },
     "execution_count": 224,
     "metadata": {},
     "output_type": "execute_result"
    }
   ],
   "source": [
    "arr.reshape(5,2,4)"
   ]
  },
  {
   "cell_type": "code",
   "execution_count": 254,
   "id": "03c59585-6f64-4c4f-a314-8666d6c114aa",
   "metadata": {},
   "outputs": [],
   "source": [
    "arr = np.array([1,2,3,4,5,6,7,8,10,11,12,13,14,15])"
   ]
  },
  {
   "cell_type": "code",
   "execution_count": 255,
   "id": "f2b6299d-2c70-45fd-9a3d-0654f418bad1",
   "metadata": {},
   "outputs": [
    {
     "data": {
      "text/plain": [
       "array([ 1,  2,  3,  4,  5,  6,  7,  8, 10, 11, 12, 13, 14, 15])"
      ]
     },
     "execution_count": 255,
     "metadata": {},
     "output_type": "execute_result"
    }
   ],
   "source": [
    "arr"
   ]
  },
  {
   "cell_type": "code",
   "execution_count": 260,
   "id": "48a6e727-ca4e-40c9-b359-7fd47fa4162e",
   "metadata": {},
   "outputs": [],
   "source": [
    "arr = arr[2:11]"
   ]
  },
  {
   "cell_type": "code",
   "execution_count": 261,
   "id": "07d55816-b117-4cfe-a4fd-075733453017",
   "metadata": {},
   "outputs": [
    {
     "data": {
      "text/plain": [
       "array([ 3,  4,  5,  6,  7,  8, 10, 11, 12])"
      ]
     },
     "execution_count": 261,
     "metadata": {},
     "output_type": "execute_result"
    }
   ],
   "source": [
    "arr"
   ]
  },
  {
   "cell_type": "code",
   "execution_count": 262,
   "id": "5088f8df-dfe0-4b28-ba63-01703d962e87",
   "metadata": {},
   "outputs": [
    {
     "data": {
      "text/plain": [
       "array([[ 3,  4,  5],\n",
       "       [ 6,  7,  8],\n",
       "       [10, 11, 12]])"
      ]
     },
     "execution_count": 262,
     "metadata": {},
     "output_type": "execute_result"
    }
   ],
   "source": [
    "arr.reshape(3,3)"
   ]
  },
  {
   "cell_type": "code",
   "execution_count": 263,
   "id": "02cfaa62-1195-4f29-93aa-405267ee98a8",
   "metadata": {},
   "outputs": [
    {
     "data": {
      "text/plain": [
       "array([[ 3],\n",
       "       [ 4],\n",
       "       [ 5],\n",
       "       [ 6],\n",
       "       [ 7],\n",
       "       [ 8],\n",
       "       [10],\n",
       "       [11],\n",
       "       [12]])"
      ]
     },
     "execution_count": 263,
     "metadata": {},
     "output_type": "execute_result"
    }
   ],
   "source": [
    "arr.reshape(9,-1)"
   ]
  },
  {
   "cell_type": "code",
   "execution_count": 13,
   "id": "e1fb7ccb-ba90-408b-ad18-c98e8c3b4b45",
   "metadata": {},
   "outputs": [],
   "source": [
    "# 2D array\n",
    "arr = np.array([[1,2,3], [1,2,3], [1,2,3]])"
   ]
  },
  {
   "cell_type": "code",
   "execution_count": 5,
   "id": "99cabea0-ac4d-43ef-ba25-9acee5eb017e",
   "metadata": {},
   "outputs": [
    {
     "data": {
      "text/plain": [
       "array([[1, 2, 3],\n",
       "       [1, 2, 3],\n",
       "       [1, 2, 3]])"
      ]
     },
     "execution_count": 5,
     "metadata": {},
     "output_type": "execute_result"
    }
   ],
   "source": [
    "arr"
   ]
  },
  {
   "cell_type": "code",
   "execution_count": 6,
   "id": "ebf5fc6d-d479-4aae-b40e-8a2704c1be89",
   "metadata": {},
   "outputs": [
    {
     "data": {
      "text/plain": [
       "(3, 3)"
      ]
     },
     "execution_count": 6,
     "metadata": {},
     "output_type": "execute_result"
    }
   ],
   "source": [
    "arr.shape"
   ]
  },
  {
   "cell_type": "code",
   "execution_count": 9,
   "id": "17bd667a-44af-4d65-82f5-7b9c23e7d786",
   "metadata": {},
   "outputs": [],
   "source": [
    "arr = np.array([[1,2], [1,2], [1,2]])"
   ]
  },
  {
   "cell_type": "code",
   "execution_count": 10,
   "id": "85efb64f-0d49-438b-aafe-b8ab562b85dd",
   "metadata": {},
   "outputs": [
    {
     "data": {
      "text/plain": [
       "(3, 2)"
      ]
     },
     "execution_count": 10,
     "metadata": {},
     "output_type": "execute_result"
    }
   ],
   "source": [
    "arr.shape"
   ]
  },
  {
   "cell_type": "code",
   "execution_count": 11,
   "id": "3b56007d-f514-407c-a900-96c33fdb077c",
   "metadata": {},
   "outputs": [
    {
     "data": {
      "text/plain": [
       "array([[1, 2],\n",
       "       [1, 2],\n",
       "       [1, 2]])"
      ]
     },
     "execution_count": 11,
     "metadata": {},
     "output_type": "execute_result"
    }
   ],
   "source": [
    "arr"
   ]
  },
  {
   "cell_type": "code",
   "execution_count": 12,
   "id": "1aef65b2-1d09-4ccf-be47-e92a2c25223d",
   "metadata": {},
   "outputs": [
    {
     "data": {
      "text/plain": [
       "2"
      ]
     },
     "execution_count": 12,
     "metadata": {},
     "output_type": "execute_result"
    }
   ],
   "source": [
    "arr.ndim"
   ]
  },
  {
   "cell_type": "code",
   "execution_count": 22,
   "id": "5b87c84f-456c-4f8d-adbc-ba08dd3e4354",
   "metadata": {},
   "outputs": [],
   "source": [
    "# 3D array\n",
    "# when we include multiple 2D array the we'll get 3D array\n",
    "arr = np.array([[[1,2,3], [1,2,3]], [[1,2,3], [1,2,3]]])"
   ]
  },
  {
   "cell_type": "code",
   "execution_count": 24,
   "id": "ccc150b5-5b9a-4697-bfe9-c2d499d23363",
   "metadata": {},
   "outputs": [
    {
     "data": {
      "text/plain": [
       "(2, 2, 3)"
      ]
     },
     "execution_count": 24,
     "metadata": {},
     "output_type": "execute_result"
    }
   ],
   "source": [
    "arr.shape"
   ]
  },
  {
   "cell_type": "code",
   "execution_count": 23,
   "id": "56bbf7e7-dfb3-48e4-bda6-a94969aec7ae",
   "metadata": {},
   "outputs": [
    {
     "data": {
      "text/plain": [
       "array([[[1, 2, 3],\n",
       "        [1, 2, 3]],\n",
       "\n",
       "       [[1, 2, 3],\n",
       "        [1, 2, 3]]])"
      ]
     },
     "execution_count": 23,
     "metadata": {},
     "output_type": "execute_result"
    }
   ],
   "source": [
    "arr"
   ]
  },
  {
   "cell_type": "code",
   "execution_count": 45,
   "id": "9b2fed0c-1aa0-4567-9534-a9e0140adb6b",
   "metadata": {},
   "outputs": [],
   "source": [
    "arr = np.array([\n",
    "    [\n",
    "        [1,2,3]\n",
    "    ],\n",
    "\n",
    "    [\n",
    "        [1,2,3]\n",
    "    ],\n",
    "\n",
    "    [\n",
    "        [1,2,3]\n",
    "    ],\n",
    "\n",
    "    [\n",
    "        [1,2,3]\n",
    "    ]\n",
    " ])"
   ]
  },
  {
   "cell_type": "code",
   "execution_count": 46,
   "id": "24722e45-3ecc-4aa9-bf6b-32ca2ca92b78",
   "metadata": {},
   "outputs": [
    {
     "data": {
      "text/plain": [
       "array([[[1, 2, 3]],\n",
       "\n",
       "       [[1, 2, 3]],\n",
       "\n",
       "       [[1, 2, 3]],\n",
       "\n",
       "       [[1, 2, 3]]])"
      ]
     },
     "execution_count": 46,
     "metadata": {},
     "output_type": "execute_result"
    }
   ],
   "source": [
    "arr"
   ]
  },
  {
   "cell_type": "code",
   "execution_count": 47,
   "id": "529ea697-23b7-484a-9253-025122c21007",
   "metadata": {},
   "outputs": [
    {
     "data": {
      "text/plain": [
       "(4, 1, 3)"
      ]
     },
     "execution_count": 47,
     "metadata": {},
     "output_type": "execute_result"
    }
   ],
   "source": [
    "arr.shape"
   ]
  },
  {
   "cell_type": "code",
   "execution_count": 48,
   "id": "aedb9843-838d-4d20-8e97-4240225b22fc",
   "metadata": {},
   "outputs": [],
   "source": [
    "arr = np.array([\n",
    "    [\n",
    "        [1,2],\n",
    "        [3,4]\n",
    "    ],\n",
    "\n",
    "    [\n",
    "        [5,6],\n",
    "        [7,8]\n",
    "    ],\n",
    "\n",
    "    [\n",
    "        [9,10],\n",
    "        [11,12]\n",
    "    ],\n",
    "\n",
    "    [\n",
    "        [13,14],\n",
    "        [15,16]\n",
    "    ]\n",
    "])"
   ]
  },
  {
   "cell_type": "code",
   "execution_count": 49,
   "id": "f128ab5c-978c-4ad7-8253-e43bfce3af56",
   "metadata": {},
   "outputs": [
    {
     "data": {
      "text/plain": [
       "array([[[ 1,  2],\n",
       "        [ 3,  4]],\n",
       "\n",
       "       [[ 5,  6],\n",
       "        [ 7,  8]],\n",
       "\n",
       "       [[ 9, 10],\n",
       "        [11, 12]],\n",
       "\n",
       "       [[13, 14],\n",
       "        [15, 16]]])"
      ]
     },
     "execution_count": 49,
     "metadata": {},
     "output_type": "execute_result"
    }
   ],
   "source": [
    "arr"
   ]
  },
  {
   "cell_type": "code",
   "execution_count": 50,
   "id": "4f2f52b4-7c05-407b-8c9e-71a56d00c494",
   "metadata": {},
   "outputs": [
    {
     "data": {
      "text/plain": [
       "(4, 2, 2)"
      ]
     },
     "execution_count": 50,
     "metadata": {},
     "output_type": "execute_result"
    }
   ],
   "source": [
    "arr.shape"
   ]
  },
  {
   "cell_type": "code",
   "execution_count": 55,
   "id": "b8d2675e-a739-4879-a740-4e7f1e067ce2",
   "metadata": {},
   "outputs": [],
   "source": [
    "arr = np.array([\n",
    "    [\n",
    "        [1,2,3,4,5,6],\n",
    "        [7,8,9,10,11,12]\n",
    "    ],\n",
    "\n",
    "    [\n",
    "        [13,14,15,16,17,18],\n",
    "        [19,20,21,22,23,24]\n",
    "    ],\n",
    "\n",
    "    [\n",
    "        [25,26,27,28,29,30],\n",
    "        [31,32,33,34,35,36]\n",
    "    ]\n",
    "])"
   ]
  },
  {
   "cell_type": "code",
   "execution_count": 56,
   "id": "ae094075-4702-414c-ba84-bccc14fde218",
   "metadata": {},
   "outputs": [
    {
     "data": {
      "text/plain": [
       "array([[[ 1,  2,  3,  4,  5,  6],\n",
       "        [ 7,  8,  9, 10, 11, 12]],\n",
       "\n",
       "       [[13, 14, 15, 16, 17, 18],\n",
       "        [19, 20, 21, 22, 23, 24]],\n",
       "\n",
       "       [[25, 26, 27, 28, 29, 30],\n",
       "        [31, 32, 33, 34, 35, 36]]])"
      ]
     },
     "execution_count": 56,
     "metadata": {},
     "output_type": "execute_result"
    }
   ],
   "source": [
    "arr"
   ]
  },
  {
   "cell_type": "code",
   "execution_count": 57,
   "id": "b155677a-367a-4ac4-85b5-246267812357",
   "metadata": {},
   "outputs": [
    {
     "data": {
      "text/plain": [
       "(3, 2, 6)"
      ]
     },
     "execution_count": 57,
     "metadata": {},
     "output_type": "execute_result"
    }
   ],
   "source": [
    "arr.shape"
   ]
  },
  {
   "cell_type": "code",
   "execution_count": 11,
   "id": "b4c52e98-8b97-40aa-b876-20f98775d2c0",
   "metadata": {},
   "outputs": [],
   "source": [
    "arr= np.array([\n",
    "    [\n",
    "        [1,2,3,4],\n",
    "        [5,6,7,8]\n",
    "    ],\n",
    "\n",
    "    [\n",
    "        [9,10,11,12],\n",
    "        [13,14,15,16]\n",
    "    ],\n",
    "\n",
    "    [\n",
    "        [17,18,19,20],\n",
    "        [21,22,23,24]\n",
    "    ],\n",
    "\n",
    "    [\n",
    "        [25,26,27,28],\n",
    "        [29,30,31,32]\n",
    "    ]\n",
    "    ])"
   ]
  },
  {
   "cell_type": "code",
   "execution_count": 12,
   "id": "a53f4c19-4c52-4288-87f3-c852d34091dc",
   "metadata": {},
   "outputs": [
    {
     "data": {
      "text/plain": [
       "array([[[ 1,  2,  3,  4],\n",
       "        [ 5,  6,  7,  8]],\n",
       "\n",
       "       [[ 9, 10, 11, 12],\n",
       "        [13, 14, 15, 16]],\n",
       "\n",
       "       [[17, 18, 19, 20],\n",
       "        [21, 22, 23, 24]],\n",
       "\n",
       "       [[25, 26, 27, 28],\n",
       "        [29, 30, 31, 32]]])"
      ]
     },
     "execution_count": 12,
     "metadata": {},
     "output_type": "execute_result"
    }
   ],
   "source": [
    "arr"
   ]
  },
  {
   "cell_type": "code",
   "execution_count": 13,
   "id": "3eb27a47-daff-4e3d-9b50-2ac004b6ce32",
   "metadata": {},
   "outputs": [
    {
     "data": {
      "text/plain": [
       "32"
      ]
     },
     "execution_count": 13,
     "metadata": {},
     "output_type": "execute_result"
    }
   ],
   "source": [
    "arr.size"
   ]
  },
  {
   "cell_type": "code",
   "execution_count": 14,
   "id": "def443bd-57a4-4b51-a622-5fb82e39b8b7",
   "metadata": {},
   "outputs": [
    {
     "data": {
      "text/plain": [
       "(4, 2, 4)"
      ]
     },
     "execution_count": 14,
     "metadata": {},
     "output_type": "execute_result"
    }
   ],
   "source": [
    "arr.shape"
   ]
  },
  {
   "cell_type": "code",
   "execution_count": 20,
   "id": "981a59ad-02e5-47fe-8903-e444a3ba7ee5",
   "metadata": {},
   "outputs": [],
   "source": [
    "### scalar addition concept\n",
    "array1 = np.array([1,2,3,4,5,6])"
   ]
  },
  {
   "cell_type": "code",
   "execution_count": 21,
   "id": "52009c8e-6115-49c9-8617-97132bc0ed5f",
   "metadata": {},
   "outputs": [],
   "source": [
    "array2 = array1 +5"
   ]
  },
  {
   "cell_type": "code",
   "execution_count": 22,
   "id": "0665571f-a328-47e2-90fb-e08a817c1b5d",
   "metadata": {},
   "outputs": [
    {
     "name": "stdout",
     "output_type": "stream",
     "text": [
      "[1 2 3 4 5 6]\n"
     ]
    }
   ],
   "source": [
    "print(array1)"
   ]
  },
  {
   "cell_type": "code",
   "execution_count": 23,
   "id": "4e686f66-7c87-4d65-a961-58f76b669334",
   "metadata": {},
   "outputs": [
    {
     "name": "stdout",
     "output_type": "stream",
     "text": [
      "[ 6  7  8  9 10 11]\n"
     ]
    }
   ],
   "source": [
    "print(array2)"
   ]
  },
  {
   "cell_type": "code",
   "execution_count": 24,
   "id": "f95f2f94-79c4-4ad7-b461-72ef8f8563f9",
   "metadata": {},
   "outputs": [],
   "source": [
    "array1 = np.array([7,8,9,5])"
   ]
  },
  {
   "cell_type": "code",
   "execution_count": 25,
   "id": "59e1765f-ece4-43f1-a47e-1054bf725fa0",
   "metadata": {},
   "outputs": [],
   "source": [
    "array2 = array1 +3"
   ]
  },
  {
   "cell_type": "code",
   "execution_count": 26,
   "id": "5b1cfa59-8e53-45d3-8920-4a00b07cf5da",
   "metadata": {},
   "outputs": [
    {
     "name": "stdout",
     "output_type": "stream",
     "text": [
      "[7 8 9 5]\n"
     ]
    }
   ],
   "source": [
    "print(array1)"
   ]
  },
  {
   "cell_type": "code",
   "execution_count": 27,
   "id": "7bec4cb1-7dae-4d38-a51b-d16703ca2feb",
   "metadata": {},
   "outputs": [
    {
     "name": "stdout",
     "output_type": "stream",
     "text": [
      "[10 11 12  8]\n"
     ]
    }
   ],
   "source": [
    "print(array2)"
   ]
  },
  {
   "cell_type": "code",
   "execution_count": 29,
   "id": "9bf68a8e-5493-454b-8a48-49230ff8afa5",
   "metadata": {},
   "outputs": [
    {
     "name": "stdout",
     "output_type": "stream",
     "text": [
      "[5 3 8 2]\n",
      "[12 10 15  9]\n"
     ]
    }
   ],
   "source": [
    "# Ek NumPy array banaate hain\n",
    "array1 = np.array([5,3,8,2])\n",
    "\n",
    "# Scalar addition use kiya\n",
    "array2 = array1 + 7\n",
    "\n",
    "print(array1) # original array print kiya\n",
    "print(array2) # array 2 print kiya jisme 7 add hua"
   ]
  },
  {
   "cell_type": "code",
   "execution_count": 40,
   "id": "28b4a204-ae2c-4398-a061-7ecda5eb2178",
   "metadata": {},
   "outputs": [],
   "source": [
    "arr = np.array([x for x in range(1,19)])"
   ]
  },
  {
   "cell_type": "code",
   "execution_count": 41,
   "id": "6e16589c-b572-4d5f-a658-34fe63909b68",
   "metadata": {},
   "outputs": [
    {
     "data": {
      "text/plain": [
       "array([ 1,  2,  3,  4,  5,  6,  7,  8,  9, 10, 11, 12, 13, 14, 15, 16, 17,\n",
       "       18])"
      ]
     },
     "execution_count": 41,
     "metadata": {},
     "output_type": "execute_result"
    }
   ],
   "source": [
    "arr"
   ]
  },
  {
   "cell_type": "code",
   "execution_count": 48,
   "id": "a3970375-dbc2-43fe-9eda-57924c4529ef",
   "metadata": {},
   "outputs": [
    {
     "data": {
      "text/plain": [
       "array([[[ 1,  2],\n",
       "        [ 3,  4],\n",
       "        [ 5,  6]],\n",
       "\n",
       "       [[ 7,  8],\n",
       "        [ 9, 10],\n",
       "        [11, 12]],\n",
       "\n",
       "       [[13, 14],\n",
       "        [15, 16],\n",
       "        [17, 18]]])"
      ]
     },
     "execution_count": 48,
     "metadata": {},
     "output_type": "execute_result"
    }
   ],
   "source": [
    "arr.reshape(3, 3, 2)"
   ]
  },
  {
   "cell_type": "code",
   "execution_count": 50,
   "id": "25576970-081b-45d1-a3ff-2e7216eac7ec",
   "metadata": {},
   "outputs": [],
   "source": [
    "arr = np.array(\n",
    "    [\n",
    "        [1,2,3,4,5],\n",
    "        [6,7,8,9,10]\n",
    "    ]\n",
    ")"
   ]
  },
  {
   "cell_type": "code",
   "execution_count": 51,
   "id": "ad216d02-6618-4d72-9bcc-088c0894a0a9",
   "metadata": {},
   "outputs": [
    {
     "data": {
      "text/plain": [
       "array([[ 1,  2,  3,  4,  5],\n",
       "       [ 6,  7,  8,  9, 10]])"
      ]
     },
     "execution_count": 51,
     "metadata": {},
     "output_type": "execute_result"
    }
   ],
   "source": [
    "arr"
   ]
  },
  {
   "cell_type": "code",
   "execution_count": 53,
   "id": "55acc4dc-daf0-45b4-ba7b-2faae8bbb280",
   "metadata": {},
   "outputs": [
    {
     "data": {
      "text/plain": [
       "(2, 5)"
      ]
     },
     "execution_count": 53,
     "metadata": {},
     "output_type": "execute_result"
    }
   ],
   "source": [
    "arr.shape"
   ]
  },
  {
   "cell_type": "code",
   "execution_count": 57,
   "id": "849b695a-db89-4ecb-9186-c920761f90f9",
   "metadata": {},
   "outputs": [],
   "source": [
    "arr = np.array(\n",
    "    [\n",
    "        [18,17,16,15],\n",
    "        [14,13,12,11],\n",
    "        [10,9,8,7],\n",
    "        [6,5,4,3]\n",
    "    ]\n",
    ")"
   ]
  },
  {
   "cell_type": "code",
   "execution_count": 58,
   "id": "e7df709f-872b-4f1b-847d-34afb70b140f",
   "metadata": {},
   "outputs": [
    {
     "data": {
      "text/plain": [
       "(4, 4)"
      ]
     },
     "execution_count": 58,
     "metadata": {},
     "output_type": "execute_result"
    }
   ],
   "source": [
    "arr.shape"
   ]
  },
  {
   "cell_type": "code",
   "execution_count": 59,
   "id": "e5b5d4ff-4c96-44a5-9107-99b30f378857",
   "metadata": {},
   "outputs": [],
   "source": [
    "arr = np.array([\n",
    "    [\n",
    "        [30,29,28,27],\n",
    "        [26,25,24,23]\n",
    "    ],\n",
    "\n",
    "    [\n",
    "        [22,21,20,19],\n",
    "        [18,17,16,15]\n",
    "    ],\n",
    "\n",
    "    [\n",
    "        [14,13,12,11],\n",
    "        [10,9,8,7]\n",
    "    ]\n",
    "])"
   ]
  },
  {
   "cell_type": "code",
   "execution_count": 61,
   "id": "79ca43df-6f35-43ef-8741-276945cbe8e0",
   "metadata": {},
   "outputs": [
    {
     "data": {
      "text/plain": [
       "(3, 2, 4)"
      ]
     },
     "execution_count": 61,
     "metadata": {},
     "output_type": "execute_result"
    }
   ],
   "source": [
    "arr.shape"
   ]
  },
  {
   "cell_type": "code",
   "execution_count": 66,
   "id": "8ed6462d-e1e2-4455-baf2-d50f8168130a",
   "metadata": {},
   "outputs": [
    {
     "ename": "ValueError",
     "evalue": "cannot reshape array of size 24 into shape (3,2,2)",
     "output_type": "error",
     "traceback": [
      "\u001b[1;31m---------------------------------------------------------------------------\u001b[0m",
      "\u001b[1;31mValueError\u001b[0m                                Traceback (most recent call last)",
      "Cell \u001b[1;32mIn[66], line 1\u001b[0m\n\u001b[1;32m----> 1\u001b[0m arr\u001b[38;5;241m.\u001b[39mreshape(\u001b[38;5;241m3\u001b[39m,\u001b[38;5;241m2\u001b[39m,\u001b[38;5;241m2\u001b[39m)\n",
      "\u001b[1;31mValueError\u001b[0m: cannot reshape array of size 24 into shape (3,2,2)"
     ]
    }
   ],
   "source": [
    "arr.reshape(2,2)"
   ]
  },
  {
   "cell_type": "code",
   "execution_count": null,
   "id": "dfc26ebc-1c81-418e-bc70-812710fd1ae5",
   "metadata": {},
   "outputs": [],
   "source": []
  }
 ],
 "metadata": {
  "kernelspec": {
   "display_name": "Python 3 (ipykernel)",
   "language": "python",
   "name": "python3"
  },
  "language_info": {
   "codemirror_mode": {
    "name": "ipython",
    "version": 3
   },
   "file_extension": ".py",
   "mimetype": "text/x-python",
   "name": "python",
   "nbconvert_exporter": "python",
   "pygments_lexer": "ipython3",
   "version": "3.13.5"
  }
 },
 "nbformat": 4,
 "nbformat_minor": 5
}
