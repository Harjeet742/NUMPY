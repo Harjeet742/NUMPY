{
 "cells": [
  {
   "cell_type": "code",
   "execution_count": 26,
   "id": "a38afc94-f59b-4fd2-9bb6-92a74941a827",
   "metadata": {},
   "outputs": [],
   "source": [
    "import numpy as np"
   ]
  },
  {
   "cell_type": "code",
   "execution_count": 27,
   "id": "3661b913-3f81-4d6d-9586-a9deb784e73a",
   "metadata": {},
   "outputs": [],
   "source": [
    "arr = np.array(range(25))"
   ]
  },
  {
   "cell_type": "code",
   "execution_count": 28,
   "id": "47a1bf83-f68d-44a3-870c-8d038e6aae45",
   "metadata": {},
   "outputs": [
    {
     "data": {
      "text/plain": [
       "array([[ 0,  1,  2,  3,  4],\n",
       "       [ 5,  6,  7,  8,  9],\n",
       "       [10, 11, 12, 13, 14],\n",
       "       [15, 16, 17, 18, 19],\n",
       "       [20, 21, 22, 23, 24]])"
      ]
     },
     "execution_count": 28,
     "metadata": {},
     "output_type": "execute_result"
    }
   ],
   "source": [
    "arr.reshape(5,5)"
   ]
  },
  {
   "cell_type": "code",
   "execution_count": 29,
   "id": "a64c7740-e5e3-4e72-8843-6e9de9abdd14",
   "metadata": {},
   "outputs": [],
   "source": [
    "arr = np.array(range(24))"
   ]
  },
  {
   "cell_type": "code",
   "execution_count": 30,
   "id": "cc9b01c7-3e8b-44c2-9268-e9e531438fc7",
   "metadata": {},
   "outputs": [
    {
     "data": {
      "text/plain": [
       "array([ 0,  1,  2,  3,  4,  5,  6,  7,  8,  9, 10, 11, 12, 13, 14, 15, 16,\n",
       "       17, 18, 19, 20, 21, 22, 23])"
      ]
     },
     "execution_count": 30,
     "metadata": {},
     "output_type": "execute_result"
    }
   ],
   "source": [
    "arr"
   ]
  },
  {
   "cell_type": "code",
   "execution_count": 31,
   "id": "82df12af-610f-4cd8-9efd-0902b19df848",
   "metadata": {},
   "outputs": [],
   "source": [
    "arr = arr.reshape(2,3,4)"
   ]
  },
  {
   "cell_type": "code",
   "execution_count": 32,
   "id": "33805610-24c6-4197-89e7-a7a317676578",
   "metadata": {},
   "outputs": [
    {
     "data": {
      "text/plain": [
       "array([[[ 0,  1,  2,  3],\n",
       "        [ 4,  5,  6,  7],\n",
       "        [ 8,  9, 10, 11]],\n",
       "\n",
       "       [[12, 13, 14, 15],\n",
       "        [16, 17, 18, 19],\n",
       "        [20, 21, 22, 23]]])"
      ]
     },
     "execution_count": 32,
     "metadata": {},
     "output_type": "execute_result"
    }
   ],
   "source": [
    "arr"
   ]
  },
  {
   "cell_type": "code",
   "execution_count": 33,
   "id": "60251610-3a11-4740-9dfe-c1b8c3812901",
   "metadata": {},
   "outputs": [
    {
     "data": {
      "text/plain": [
       "3"
      ]
     },
     "execution_count": 33,
     "metadata": {},
     "output_type": "execute_result"
    }
   ],
   "source": [
    "arr.ndim"
   ]
  },
  {
   "cell_type": "code",
   "execution_count": 34,
   "id": "ea79210e-62b6-473c-a785-4fec117c4dcf",
   "metadata": {},
   "outputs": [
    {
     "data": {
      "text/plain": [
       "(2, 3, 4)"
      ]
     },
     "execution_count": 34,
     "metadata": {},
     "output_type": "execute_result"
    }
   ],
   "source": [
    "arr.shape"
   ]
  },
  {
   "cell_type": "code",
   "execution_count": 60,
   "id": "b2880fad-64b7-46c4-95f1-9b4aa0b0d678",
   "metadata": {},
   "outputs": [],
   "source": [
    "arr = np.array(range(32))"
   ]
  },
  {
   "cell_type": "code",
   "execution_count": 61,
   "id": "a7b0c97e-0bd1-4f44-b255-8e80de819e5f",
   "metadata": {},
   "outputs": [
    {
     "data": {
      "text/plain": [
       "array([ 0,  1,  2,  3,  4,  5,  6,  7,  8,  9, 10, 11, 12, 13, 14, 15, 16,\n",
       "       17, 18, 19, 20, 21, 22, 23, 24, 25, 26, 27, 28, 29, 30, 31])"
      ]
     },
     "execution_count": 61,
     "metadata": {},
     "output_type": "execute_result"
    }
   ],
   "source": [
    "arr"
   ]
  },
  {
   "cell_type": "code",
   "execution_count": 68,
   "id": "247a5370-0f96-464d-aa9b-91ecb97c250e",
   "metadata": {},
   "outputs": [],
   "source": [
    "arr = arr.reshape(4,2,4)"
   ]
  },
  {
   "cell_type": "code",
   "execution_count": 69,
   "id": "b69dae7e-4745-4722-91b8-3046d55c848e",
   "metadata": {},
   "outputs": [
    {
     "data": {
      "text/plain": [
       "array([[[ 0,  1,  2,  3],\n",
       "        [ 4,  5,  6,  7]],\n",
       "\n",
       "       [[ 8,  9, 10, 11],\n",
       "        [12, 13, 14, 15]],\n",
       "\n",
       "       [[16, 17, 18, 19],\n",
       "        [20, 21, 22, 23]],\n",
       "\n",
       "       [[24, 25, 26, 27],\n",
       "        [28, 29, 30, 31]]])"
      ]
     },
     "execution_count": 69,
     "metadata": {},
     "output_type": "execute_result"
    }
   ],
   "source": [
    "arr"
   ]
  },
  {
   "cell_type": "code",
   "execution_count": 70,
   "id": "643e37c4-12b6-4ef8-b450-bc6abe6381c8",
   "metadata": {},
   "outputs": [
    {
     "data": {
      "text/plain": [
       "3"
      ]
     },
     "execution_count": 70,
     "metadata": {},
     "output_type": "execute_result"
    }
   ],
   "source": [
    "arr.ndim"
   ]
  },
  {
   "cell_type": "code",
   "execution_count": 71,
   "id": "0d3ee8a7-4f2f-4972-87f7-0d7fa661d117",
   "metadata": {},
   "outputs": [
    {
     "data": {
      "text/plain": [
       "32"
      ]
     },
     "execution_count": 71,
     "metadata": {},
     "output_type": "execute_result"
    }
   ],
   "source": [
    "arr.size"
   ]
  },
  {
   "cell_type": "code",
   "execution_count": 105,
   "id": "5e540da6-4032-40b2-936f-02234ea7cbc2",
   "metadata": {},
   "outputs": [],
   "source": [
    "arr = np.array(range(84))"
   ]
  },
  {
   "cell_type": "code",
   "execution_count": 106,
   "id": "873fb836-c747-43cf-815c-578c33c375db",
   "metadata": {},
   "outputs": [
    {
     "data": {
      "text/plain": [
       "array([ 0,  1,  2,  3,  4,  5,  6,  7,  8,  9, 10, 11, 12, 13, 14, 15, 16,\n",
       "       17, 18, 19, 20, 21, 22, 23, 24, 25, 26, 27, 28, 29, 30, 31, 32, 33,\n",
       "       34, 35, 36, 37, 38, 39, 40, 41, 42, 43, 44, 45, 46, 47, 48, 49, 50,\n",
       "       51, 52, 53, 54, 55, 56, 57, 58, 59, 60, 61, 62, 63, 64, 65, 66, 67,\n",
       "       68, 69, 70, 71, 72, 73, 74, 75, 76, 77, 78, 79, 80, 81, 82, 83])"
      ]
     },
     "execution_count": 106,
     "metadata": {},
     "output_type": "execute_result"
    }
   ],
   "source": [
    "arr"
   ]
  },
  {
   "cell_type": "code",
   "execution_count": 108,
   "id": "722591d7-4170-44da-839b-4c57bd642a64",
   "metadata": {},
   "outputs": [
    {
     "data": {
      "text/plain": [
       "array([[[ 0,  1,  2,  3,  4,  5,  6],\n",
       "        [ 7,  8,  9, 10, 11, 12, 13],\n",
       "        [14, 15, 16, 17, 18, 19, 20]],\n",
       "\n",
       "       [[21, 22, 23, 24, 25, 26, 27],\n",
       "        [28, 29, 30, 31, 32, 33, 34],\n",
       "        [35, 36, 37, 38, 39, 40, 41]],\n",
       "\n",
       "       [[42, 43, 44, 45, 46, 47, 48],\n",
       "        [49, 50, 51, 52, 53, 54, 55],\n",
       "        [56, 57, 58, 59, 60, 61, 62]],\n",
       "\n",
       "       [[63, 64, 65, 66, 67, 68, 69],\n",
       "        [70, 71, 72, 73, 74, 75, 76],\n",
       "        [77, 78, 79, 80, 81, 82, 83]]])"
      ]
     },
     "execution_count": 108,
     "metadata": {},
     "output_type": "execute_result"
    }
   ],
   "source": [
    "arr.reshape(4,3,7)"
   ]
  },
  {
   "cell_type": "code",
   "execution_count": 109,
   "id": "9e6ef117-a8df-4a77-b91c-9d6ebe4f43e1",
   "metadata": {},
   "outputs": [
    {
     "data": {
      "text/plain": [
       "array([[[ 0,  1,  2,  3,  4,  5,  6],\n",
       "        [ 7,  8,  9, 10, 11, 12, 13],\n",
       "        [14, 15, 16, 17, 18, 19, 20],\n",
       "        [21, 22, 23, 24, 25, 26, 27]],\n",
       "\n",
       "       [[28, 29, 30, 31, 32, 33, 34],\n",
       "        [35, 36, 37, 38, 39, 40, 41],\n",
       "        [42, 43, 44, 45, 46, 47, 48],\n",
       "        [49, 50, 51, 52, 53, 54, 55]],\n",
       "\n",
       "       [[56, 57, 58, 59, 60, 61, 62],\n",
       "        [63, 64, 65, 66, 67, 68, 69],\n",
       "        [70, 71, 72, 73, 74, 75, 76],\n",
       "        [77, 78, 79, 80, 81, 82, 83]]])"
      ]
     },
     "execution_count": 109,
     "metadata": {},
     "output_type": "execute_result"
    }
   ],
   "source": [
    "arr.reshape(3,4,7)"
   ]
  },
  {
   "cell_type": "code",
   "execution_count": 111,
   "id": "f75cf780-29b2-4b14-ae5d-f6a844b6eba3",
   "metadata": {},
   "outputs": [],
   "source": [
    "arr= arr.reshape(7,4,3)"
   ]
  },
  {
   "cell_type": "code",
   "execution_count": 112,
   "id": "9684c1ec-8b27-4baf-a7ef-ff862cb586c7",
   "metadata": {},
   "outputs": [
    {
     "data": {
      "text/plain": [
       "array([[[ 0,  1,  2],\n",
       "        [ 3,  4,  5],\n",
       "        [ 6,  7,  8],\n",
       "        [ 9, 10, 11]],\n",
       "\n",
       "       [[12, 13, 14],\n",
       "        [15, 16, 17],\n",
       "        [18, 19, 20],\n",
       "        [21, 22, 23]],\n",
       "\n",
       "       [[24, 25, 26],\n",
       "        [27, 28, 29],\n",
       "        [30, 31, 32],\n",
       "        [33, 34, 35]],\n",
       "\n",
       "       [[36, 37, 38],\n",
       "        [39, 40, 41],\n",
       "        [42, 43, 44],\n",
       "        [45, 46, 47]],\n",
       "\n",
       "       [[48, 49, 50],\n",
       "        [51, 52, 53],\n",
       "        [54, 55, 56],\n",
       "        [57, 58, 59]],\n",
       "\n",
       "       [[60, 61, 62],\n",
       "        [63, 64, 65],\n",
       "        [66, 67, 68],\n",
       "        [69, 70, 71]],\n",
       "\n",
       "       [[72, 73, 74],\n",
       "        [75, 76, 77],\n",
       "        [78, 79, 80],\n",
       "        [81, 82, 83]]])"
      ]
     },
     "execution_count": 112,
     "metadata": {},
     "output_type": "execute_result"
    }
   ],
   "source": [
    "arr"
   ]
  },
  {
   "cell_type": "code",
   "execution_count": 113,
   "id": "5057ffca-f9d8-4d99-af31-aba4855db75c",
   "metadata": {},
   "outputs": [
    {
     "data": {
      "text/plain": [
       "3"
      ]
     },
     "execution_count": 113,
     "metadata": {},
     "output_type": "execute_result"
    }
   ],
   "source": [
    "arr.ndim"
   ]
  },
  {
   "cell_type": "code",
   "execution_count": 115,
   "id": "8f4824fb-0bc7-4dfc-bde7-1e62bd577366",
   "metadata": {},
   "outputs": [
    {
     "data": {
      "text/plain": [
       "(7, 4, 3)"
      ]
     },
     "execution_count": 115,
     "metadata": {},
     "output_type": "execute_result"
    }
   ],
   "source": [
    "arr.shape"
   ]
  },
  {
   "cell_type": "markdown",
   "id": "fd742500-fd55-49c3-8681-b003d100edee",
   "metadata": {},
   "source": [
    "# Arange generates a array with numbers in a range"
   ]
  },
  {
   "cell_type": "code",
   "execution_count": 116,
   "id": "d0d66d23-b037-42a1-99e3-b1b33a528f00",
   "metadata": {},
   "outputs": [],
   "source": [
    "arr = np.arange(25)"
   ]
  },
  {
   "cell_type": "code",
   "execution_count": 117,
   "id": "e9d76fa0-9c4d-4df6-8f4b-428fcdd87e31",
   "metadata": {},
   "outputs": [
    {
     "data": {
      "text/plain": [
       "array([ 0,  1,  2,  3,  4,  5,  6,  7,  8,  9, 10, 11, 12, 13, 14, 15, 16,\n",
       "       17, 18, 19, 20, 21, 22, 23, 24])"
      ]
     },
     "execution_count": 117,
     "metadata": {},
     "output_type": "execute_result"
    }
   ],
   "source": [
    "arr"
   ]
  },
  {
   "cell_type": "code",
   "execution_count": 31,
   "id": "5ab15c73-6797-4dc9-9274-f2341449a0a5",
   "metadata": {},
   "outputs": [
    {
     "data": {
      "text/plain": [
       "(25,)"
      ]
     },
     "execution_count": 31,
     "metadata": {},
     "output_type": "execute_result"
    }
   ],
   "source": [
    "arr.shape"
   ]
  },
  {
   "cell_type": "code",
   "execution_count": 128,
   "id": "23429a3d-eb6b-44d9-8d58-76a00aa26a5a",
   "metadata": {},
   "outputs": [
    {
     "data": {
      "text/plain": [
       "array([[ 0,  1,  2,  3,  4],\n",
       "       [ 5,  6,  7,  8,  9],\n",
       "       [10, 11, 12, 13, 14],\n",
       "       [15, 16, 17, 18, 19],\n",
       "       [20, 21, 22, 23, 24]])"
      ]
     },
     "execution_count": 128,
     "metadata": {},
     "output_type": "execute_result"
    }
   ],
   "source": [
    "arr.reshape(5,5)"
   ]
  },
  {
   "cell_type": "markdown",
   "id": "e8333385-7ed3-4db0-8173-feb3559ba630",
   "metadata": {},
   "source": [
    "### generates numbers linearly spaced from starting index including index"
   ]
  },
  {
   "cell_type": "code",
   "execution_count": 118,
   "id": "8d5b2d99-2c14-4b9b-ab40-ccc07dfcb753",
   "metadata": {},
   "outputs": [
    {
     "data": {
      "text/plain": [
       "array([ 1.,  2.,  3.,  4.,  5.,  6.,  7.,  8.,  9., 10.])"
      ]
     },
     "execution_count": 118,
     "metadata": {},
     "output_type": "execute_result"
    }
   ],
   "source": [
    "np.linspace(1,10,10)"
   ]
  },
  {
   "cell_type": "code",
   "execution_count": 130,
   "id": "90ae8785-91d3-4c3f-9425-40e9c6161892",
   "metadata": {},
   "outputs": [
    {
     "data": {
      "text/plain": [
       "array([ 1.  ,  3.25,  5.5 ,  7.75, 10.  ])"
      ]
     },
     "execution_count": 130,
     "metadata": {},
     "output_type": "execute_result"
    }
   ],
   "source": [
    "np.linspace(1,10,5)"
   ]
  },
  {
   "cell_type": "markdown",
   "id": "c1239e42-9e2d-4321-9f29-ca586db747c4",
   "metadata": {},
   "source": [
    "### random functions"
   ]
  },
  {
   "cell_type": "markdown",
   "id": "1640ebbf-aea4-46d8-9d10-eb581da09b7b",
   "metadata": {},
   "source": [
    "### generates array random numbers from uniform distribution between 0 and 1"
   ]
  },
  {
   "cell_type": "code",
   "execution_count": 160,
   "id": "7f1188d8-0db6-4fb3-8615-6bfb83d8095f",
   "metadata": {},
   "outputs": [
    {
     "data": {
      "text/plain": [
       "array([0.0554348 , 0.48437624, 0.15539823, 0.01312938])"
      ]
     },
     "execution_count": 160,
     "metadata": {},
     "output_type": "execute_result"
    }
   ],
   "source": [
    "np.random.rand(4)"
   ]
  },
  {
   "cell_type": "code",
   "execution_count": 149,
   "id": "95ab1499-4cc1-4034-9551-14ccbcb243d6",
   "metadata": {},
   "outputs": [
    {
     "data": {
      "text/plain": [
       "array([[0.42411008, 0.55678019, 0.71574507],\n",
       "       [0.2838292 , 0.38229292, 0.17249465],\n",
       "       [0.66388916, 0.79443228, 0.84009612],\n",
       "       [0.22118111, 0.64718999, 0.58206352],\n",
       "       [0.0900348 , 0.70293458, 0.34430628]])"
      ]
     },
     "execution_count": 149,
     "metadata": {},
     "output_type": "execute_result"
    }
   ],
   "source": [
    "np.random.rand(5, 3)"
   ]
  },
  {
   "cell_type": "code",
   "execution_count": 197,
   "id": "7a134a4f-1562-4824-a138-8a287ee566cb",
   "metadata": {},
   "outputs": [
    {
     "data": {
      "text/plain": [
       "array([0.45356495, 0.12828032, 0.74324613, 0.97532682, 0.671922  ,\n",
       "       0.51837256, 0.78122735, 0.95970633])"
      ]
     },
     "execution_count": 197,
     "metadata": {},
     "output_type": "execute_result"
    }
   ],
   "source": [
    "np.random.rand(8)"
   ]
  },
  {
   "cell_type": "code",
   "execution_count": 198,
   "id": "861224d5-2526-41f5-bd09-c3d0c048bc83",
   "metadata": {},
   "outputs": [
    {
     "data": {
      "text/plain": [
       "array([[0.9200851 , 0.25540406, 0.59922947, 0.61853524, 0.16232325,\n",
       "        0.26973259, 0.66425254],\n",
       "       [0.233681  , 0.85751432, 0.22346796, 0.78594314, 0.7663917 ,\n",
       "        0.64577981, 0.99649852],\n",
       "       [0.84753287, 0.75632005, 0.59168665, 0.33280344, 0.24664353,\n",
       "        0.30024619, 0.02119233],\n",
       "       [0.52605032, 0.41534471, 0.93891255, 0.6054972 , 0.04190308,\n",
       "        0.49348864, 0.64515448],\n",
       "       [0.7164919 , 0.48228389, 0.91422898, 0.30438497, 0.28293894,\n",
       "        0.12724741, 0.99938011],\n",
       "       [0.79939222, 0.36053367, 0.40915771, 0.67197467, 0.25884935,\n",
       "        0.76358621, 0.24020085],\n",
       "       [0.25420445, 0.95732828, 0.71485839, 0.65885842, 0.54361168,\n",
       "        0.36159067, 0.21048412]])"
      ]
     },
     "execution_count": 198,
     "metadata": {},
     "output_type": "execute_result"
    }
   ],
   "source": [
    "np.random.rand(7,7)"
   ]
  },
  {
   "cell_type": "markdown",
   "id": "cae47658-3041-4295-828d-4cd87d1bcca5",
   "metadata": {},
   "source": [
    "### generates array random numbers from normal distribution with center as 0"
   ]
  },
  {
   "cell_type": "code",
   "execution_count": 155,
   "id": "e730cfe0-b952-4218-af00-5cfe028a7380",
   "metadata": {},
   "outputs": [
    {
     "data": {
      "text/plain": [
       "array([-1.16976836, -0.97079573, -2.12885905, -2.35972326])"
      ]
     },
     "execution_count": 155,
     "metadata": {},
     "output_type": "execute_result"
    }
   ],
   "source": [
    "np.random.randn(4)"
   ]
  },
  {
   "cell_type": "code",
   "execution_count": 156,
   "id": "89ac28f4-f862-46a2-a317-b5479d61d5ea",
   "metadata": {},
   "outputs": [
    {
     "data": {
      "text/plain": [
       "array([[ 1.54770508,  0.4262864 ,  0.55772182, -1.78569233,  0.81357241],\n",
       "       [-0.23915399, -2.1170738 , -0.78575548, -0.76446789,  0.73893073],\n",
       "       [-0.74011312,  0.13301341, -0.65893559,  0.19809687,  0.63577516],\n",
       "       [-0.82425814,  0.47048822,  1.33825156,  1.22253784,  0.64401761],\n",
       "       [-1.36127538, -1.39086659,  0.20445098,  1.16805676, -0.51393336]])"
      ]
     },
     "execution_count": 156,
     "metadata": {},
     "output_type": "execute_result"
    }
   ],
   "source": [
    "np.random.randn(5,5)"
   ]
  },
  {
   "cell_type": "code",
   "execution_count": 196,
   "id": "dbfa9b4f-7d77-42ab-b394-f9a09566f307",
   "metadata": {},
   "outputs": [
    {
     "data": {
      "text/plain": [
       "array([[ 0.72165048,  1.25867479, -0.07321581, -0.79487956,  1.1942387 ,\n",
       "         2.49139227],\n",
       "       [ 0.98640431, -1.34928163, -0.61651643, -0.52162413,  0.7688017 ,\n",
       "        -0.07941702],\n",
       "       [ 0.16728034,  1.01882653, -2.05996654, -0.73409809,  0.50378613,\n",
       "        -0.40204461],\n",
       "       [ 0.56890573,  0.83133283, -0.53513762, -0.22934226, -1.27037563,\n",
       "         0.71608311],\n",
       "       [ 0.82095685,  0.4426139 ,  0.72874644, -0.876531  ,  0.21801806,\n",
       "        -2.383013  ],\n",
       "       [ 1.3230362 ,  0.37120484,  0.42330956,  0.84001536, -1.25876527,\n",
       "        -2.64582302],\n",
       "       [ 0.71279564, -0.56139883,  2.38694297,  0.7555382 , -0.3161261 ,\n",
       "         3.42451675],\n",
       "       [ 0.76048932,  0.13290083,  0.81084789,  2.42086525, -0.61722219,\n",
       "        -0.34465551],\n",
       "       [-0.8389795 ,  0.52787889, -0.53145548, -1.03550565,  1.03586818,\n",
       "        -0.32063247]])"
      ]
     },
     "execution_count": 196,
     "metadata": {},
     "output_type": "execute_result"
    }
   ],
   "source": [
    "np.random.randn(9,6)"
   ]
  },
  {
   "cell_type": "markdown",
   "id": "fb2fed5a-3060-4896-9402-b893c0332e46",
   "metadata": {},
   "source": [
    "### generates array of random numbers between starting and ending"
   ]
  },
  {
   "cell_type": "code",
   "execution_count": 79,
   "id": "547537b8-8167-4ad3-888c-7a01d4c6e309",
   "metadata": {},
   "outputs": [
    {
     "data": {
      "text/plain": [
       "array([[4, 2, 3, 1, 4, 3],\n",
       "       [3, 2, 4, 0, 3, 0],\n",
       "       [1, 0, 2, 4, 1, 4]], dtype=int32)"
      ]
     },
     "execution_count": 79,
     "metadata": {},
     "output_type": "execute_result"
    }
   ],
   "source": [
    "np.random.randint(0,5, (3,6))"
   ]
  },
  {
   "cell_type": "code",
   "execution_count": 68,
   "id": "94b6e866-f50d-4f75-a116-4bd445d270c1",
   "metadata": {},
   "outputs": [
    {
     "data": {
      "text/plain": [
       "array([ 0,  1,  2,  3,  4,  5,  6,  7,  8,  9, 10, 11, 12, 13, 14, 15, 16,\n",
       "       17, 18, 19, 20, 21, 22, 23, 24])"
      ]
     },
     "execution_count": 68,
     "metadata": {},
     "output_type": "execute_result"
    }
   ],
   "source": [
    "arr.reshape(-1)"
   ]
  },
  {
   "cell_type": "code",
   "execution_count": 74,
   "id": "c6fce0c1-c36d-4624-8543-fbc5b21a0166",
   "metadata": {},
   "outputs": [
    {
     "data": {
      "text/plain": [
       "array([[ 0,  1,  2,  3,  4],\n",
       "       [ 5,  6,  7,  8,  9],\n",
       "       [10, 11, 12, 13, 14],\n",
       "       [15, 16, 17, 18, 19],\n",
       "       [20, 21, 22, 23, 24]])"
      ]
     },
     "execution_count": 74,
     "metadata": {},
     "output_type": "execute_result"
    }
   ],
   "source": [
    "arr.reshape(5,5)"
   ]
  },
  {
   "cell_type": "code",
   "execution_count": 169,
   "id": "222cd9c2-4d2f-4007-a3bc-a0381fecdac9",
   "metadata": {},
   "outputs": [],
   "source": [
    "arr = np.random.randint(0,10, (3,8))"
   ]
  },
  {
   "cell_type": "code",
   "execution_count": 170,
   "id": "2ce52c7e-d383-40a4-b998-1ea97895cb38",
   "metadata": {},
   "outputs": [
    {
     "data": {
      "text/plain": [
       "array([[2, 7, 3, 3, 8, 5, 0, 3],\n",
       "       [8, 6, 1, 8, 4, 5, 3, 9],\n",
       "       [9, 5, 6, 5, 5, 8, 4, 5]], dtype=int32)"
      ]
     },
     "execution_count": 170,
     "metadata": {},
     "output_type": "execute_result"
    }
   ],
   "source": [
    "arr"
   ]
  },
  {
   "cell_type": "code",
   "execution_count": 171,
   "id": "ef9c62db-eda8-4747-b030-c361f86ba792",
   "metadata": {},
   "outputs": [
    {
     "data": {
      "text/plain": [
       "array([2, 8, 9, 7, 6, 5, 3, 1, 6, 3, 8, 5, 8, 4, 5, 5, 5, 8, 0, 3, 4, 3,\n",
       "       9, 5], dtype=int32)"
      ]
     },
     "execution_count": 171,
     "metadata": {},
     "output_type": "execute_result"
    }
   ],
   "source": [
    "arr.flatten(order= 'f')"
   ]
  },
  {
   "cell_type": "code",
   "execution_count": 172,
   "id": "781884bb-539e-404e-9c3d-c422ccdb6b31",
   "metadata": {},
   "outputs": [
    {
     "data": {
      "text/plain": [
       "array([[2, 7, 3, 3, 8, 5, 0, 3],\n",
       "       [8, 6, 1, 8, 4, 5, 3, 9],\n",
       "       [9, 5, 6, 5, 5, 8, 4, 5]], dtype=int32)"
      ]
     },
     "execution_count": 172,
     "metadata": {},
     "output_type": "execute_result"
    }
   ],
   "source": [
    "arr"
   ]
  },
  {
   "cell_type": "markdown",
   "id": "bc7dcdeb-244c-4e4c-b591-63dff2a54742",
   "metadata": {},
   "source": [
    "# matrix\n",
    "### arrangement of data in rectangular form\n",
    "### rectangular matrix"
   ]
  },
  {
   "cell_type": "code",
   "execution_count": 97,
   "id": "690cb3c1-d2c2-4f20-b0b6-1192970e89df",
   "metadata": {},
   "outputs": [
    {
     "data": {
      "text/plain": [
       "array([[55, 17, 63],\n",
       "       [15,  3, 67],\n",
       "       [18, 21, 25],\n",
       "       [41, 29, 52],\n",
       "       [26, 27, 62]], dtype=int32)"
      ]
     },
     "execution_count": 97,
     "metadata": {},
     "output_type": "execute_result"
    }
   ],
   "source": [
    "np.random.randint(0,100, (5,3))"
   ]
  },
  {
   "cell_type": "code",
   "execution_count": 192,
   "id": "6513f608-490a-4956-a56b-85bd5fb86873",
   "metadata": {},
   "outputs": [
    {
     "data": {
      "text/plain": [
       "array([[ 9,  1, 12, 19,  8, 12,  4,  6,  8],\n",
       "       [ 2,  1, 16, 10, 12,  9, 18,  3,  7],\n",
       "       [15, 12, 12, 16,  3,  0,  4, 14,  7],\n",
       "       [ 5,  6, 19, 14,  2,  8,  4,  0, 19],\n",
       "       [ 5,  9,  1,  2,  1, 12,  0,  7, 10]], dtype=int32)"
      ]
     },
     "execution_count": 192,
     "metadata": {},
     "output_type": "execute_result"
    }
   ],
   "source": [
    "np.random.randint(0,20, (5, 9))"
   ]
  },
  {
   "cell_type": "markdown",
   "id": "068be270-9ebd-477b-a4cb-9937b502503e",
   "metadata": {},
   "source": [
    "### square matrix"
   ]
  },
  {
   "cell_type": "code",
   "execution_count": 98,
   "id": "9834a4af-20fd-418c-b327-24c0a6b24660",
   "metadata": {},
   "outputs": [
    {
     "data": {
      "text/plain": [
       "array([[54, 57, 56],\n",
       "       [51, 33, 86],\n",
       "       [87, 20, 40]], dtype=int32)"
      ]
     },
     "execution_count": 98,
     "metadata": {},
     "output_type": "execute_result"
    }
   ],
   "source": [
    "np.random.randint(0,100, (3,3))"
   ]
  },
  {
   "cell_type": "code",
   "execution_count": 191,
   "id": "a22c314f-ca7b-48a4-b74f-ab2e664515cd",
   "metadata": {},
   "outputs": [
    {
     "data": {
      "text/plain": [
       "array([[ 6, 16,  8, 16, 11,  1, 13],\n",
       "       [ 0, 19, 16, 10, 10, 17,  2],\n",
       "       [10,  1, 15,  4, 10, 18,  6],\n",
       "       [ 1,  5, 12, 16, 17, 19,  6],\n",
       "       [ 7, 10, 19,  0, 12, 15,  1],\n",
       "       [12, 16, 13,  0, 11, 11, 19],\n",
       "       [16, 14, 16,  3,  2, 14,  3]], dtype=int32)"
      ]
     },
     "execution_count": 191,
     "metadata": {},
     "output_type": "execute_result"
    }
   ],
   "source": [
    "np.random.randint(0,20, (7,7))"
   ]
  },
  {
   "cell_type": "markdown",
   "id": "e92e379f-00c1-44f9-a24a-bf69067168ad",
   "metadata": {},
   "source": [
    "### Triangle matrix\n",
    "#### upper triangle matrix"
   ]
  },
  {
   "cell_type": "code",
   "execution_count": 99,
   "id": "3e1731ed-c913-4e3b-b930-9f67a5ea8863",
   "metadata": {},
   "outputs": [
    {
     "data": {
      "text/plain": [
       "array([[1, 2, 3],\n",
       "       [0, 4, 5],\n",
       "       [0, 0, 6]])"
      ]
     },
     "execution_count": 99,
     "metadata": {},
     "output_type": "execute_result"
    }
   ],
   "source": [
    "np.array([\n",
    "    [1,2,3],\n",
    "    [0,4,5],\n",
    "    [0,0,6]\n",
    "])"
   ]
  },
  {
   "cell_type": "code",
   "execution_count": 190,
   "id": "5ef8acc3-b1e2-46ec-9891-abb4fc99247b",
   "metadata": {},
   "outputs": [
    {
     "data": {
      "text/plain": [
       "array([['1', '2', '3'],\n",
       "       ['*', '4', '5'],\n",
       "       ['*', '*', '6']], dtype='<U21')"
      ]
     },
     "execution_count": 190,
     "metadata": {},
     "output_type": "execute_result"
    }
   ],
   "source": [
    "np.array([\n",
    "    [1, 2, 3],\n",
    "    ['*',4, 5],\n",
    "    ['*','*',6]\n",
    "])"
   ]
  },
  {
   "cell_type": "markdown",
   "id": "ab9754d0-1108-4415-abb0-003dffe58e8d",
   "metadata": {},
   "source": [
    "#### lower triangle matrix"
   ]
  },
  {
   "cell_type": "code",
   "execution_count": 100,
   "id": "75f4865a-017a-4554-9ddd-c926b912a404",
   "metadata": {},
   "outputs": [
    {
     "data": {
      "text/plain": [
       "array([[1, 0, 0],\n",
       "       [2, 3, 0],\n",
       "       [4, 5, 6]])"
      ]
     },
     "execution_count": 100,
     "metadata": {},
     "output_type": "execute_result"
    }
   ],
   "source": [
    "np.array([\n",
    "    [1,0,0],\n",
    "    [2,3,0],\n",
    "    [4,5,6]\n",
    "])"
   ]
  },
  {
   "cell_type": "markdown",
   "id": "0fd8d950-d0e5-44f8-adb9-79fc99e6d567",
   "metadata": {},
   "source": [
    "#### diagonal matrix"
   ]
  },
  {
   "cell_type": "code",
   "execution_count": 188,
   "id": "841c15b1-395d-43c3-ac1e-e1f91b11669e",
   "metadata": {},
   "outputs": [
    {
     "data": {
      "text/plain": [
       "array([['1', '*', '*'],\n",
       "       ['2', '3', '*'],\n",
       "       ['4', '5', '*']], dtype='<U21')"
      ]
     },
     "execution_count": 188,
     "metadata": {},
     "output_type": "execute_result"
    }
   ],
   "source": [
    "np.array([\n",
    "    [1,'*','*'],\n",
    "    [2, 3, '*'],\n",
    "    [4, 5, '*']\n",
    "])"
   ]
  },
  {
   "cell_type": "code",
   "execution_count": 101,
   "id": "50438eac-9a22-4d38-b0fe-31658d6be0fd",
   "metadata": {},
   "outputs": [
    {
     "data": {
      "text/plain": [
       "array([[1, 0, 0],\n",
       "       [0, 2, 0],\n",
       "       [0, 0, 3]])"
      ]
     },
     "execution_count": 101,
     "metadata": {},
     "output_type": "execute_result"
    }
   ],
   "source": [
    "np.array([\n",
    "    [1,0,0],\n",
    "    [0,2,0],\n",
    "    [0,0,3]\n",
    "])"
   ]
  },
  {
   "cell_type": "code",
   "execution_count": 187,
   "id": "69d4192d-2744-4adc-949e-432117a40dfd",
   "metadata": {},
   "outputs": [
    {
     "data": {
      "text/plain": [
       "array([['1', '*', '*'],\n",
       "       ['*', '2', '*'],\n",
       "       ['*', '*', '3']], dtype='<U21')"
      ]
     },
     "execution_count": 187,
     "metadata": {},
     "output_type": "execute_result"
    }
   ],
   "source": [
    "np.array([\n",
    "    [1,'*','*'],\n",
    "    ['*',2,'*'],\n",
    "    ['*','*',3]\n",
    "])"
   ]
  },
  {
   "cell_type": "markdown",
   "id": "75bb6c68-cf9c-4111-a064-4bc86a3bab8e",
   "metadata": {},
   "source": [
    "#### Transpose of a matrix"
   ]
  },
  {
   "cell_type": "code",
   "execution_count": 180,
   "id": "337b57a2-6e9e-446a-a62c-0c524b050588",
   "metadata": {},
   "outputs": [],
   "source": [
    "arr = np.random.randint(0,100, (3,6))"
   ]
  },
  {
   "cell_type": "code",
   "execution_count": 181,
   "id": "7ade0edc-714f-40f8-ada9-bcb198de1501",
   "metadata": {},
   "outputs": [
    {
     "data": {
      "text/plain": [
       "array([[56,  7,  1, 71, 21, 82],\n",
       "       [31, 74, 31, 79, 18, 21],\n",
       "       [37, 58, 16, 14, 87, 17]], dtype=int32)"
      ]
     },
     "execution_count": 181,
     "metadata": {},
     "output_type": "execute_result"
    }
   ],
   "source": [
    "arr"
   ]
  },
  {
   "cell_type": "code",
   "execution_count": 182,
   "id": "19f1fbae-168b-467d-9c82-6030ff547e75",
   "metadata": {},
   "outputs": [
    {
     "data": {
      "text/plain": [
       "array([[56, 31, 37],\n",
       "       [ 7, 74, 58],\n",
       "       [ 1, 31, 16],\n",
       "       [71, 79, 14],\n",
       "       [21, 18, 87],\n",
       "       [82, 21, 17]], dtype=int32)"
      ]
     },
     "execution_count": 182,
     "metadata": {},
     "output_type": "execute_result"
    }
   ],
   "source": [
    "arr.transpose()"
   ]
  },
  {
   "cell_type": "code",
   "execution_count": 183,
   "id": "a0b9deca-8bd3-4762-9849-4c45b3c67fcd",
   "metadata": {},
   "outputs": [],
   "source": [
    "arr = np.random.randint(0,10, (5, 3))"
   ]
  },
  {
   "cell_type": "code",
   "execution_count": 184,
   "id": "0c9d6ffd-5e96-43ac-b4ef-385cb9ff030c",
   "metadata": {},
   "outputs": [
    {
     "data": {
      "text/plain": [
       "array([[0, 4, 7],\n",
       "       [1, 8, 4],\n",
       "       [1, 0, 4],\n",
       "       [5, 2, 3],\n",
       "       [8, 2, 6]], dtype=int32)"
      ]
     },
     "execution_count": 184,
     "metadata": {},
     "output_type": "execute_result"
    }
   ],
   "source": [
    "arr"
   ]
  },
  {
   "cell_type": "code",
   "execution_count": 185,
   "id": "d6db47a2-744f-427e-9175-3679f54ff38f",
   "metadata": {},
   "outputs": [
    {
     "data": {
      "text/plain": [
       "array([[0, 1, 1, 5, 8],\n",
       "       [4, 8, 0, 2, 2],\n",
       "       [7, 4, 4, 3, 6]], dtype=int32)"
      ]
     },
     "execution_count": 185,
     "metadata": {},
     "output_type": "execute_result"
    }
   ],
   "source": [
    "arr.transpose()"
   ]
  },
  {
   "cell_type": "code",
   "execution_count": null,
   "id": "f236f878-344a-4403-ae7a-28fdaae35300",
   "metadata": {},
   "outputs": [],
   "source": []
  }
 ],
 "metadata": {
  "kernelspec": {
   "display_name": "Python 3 (ipykernel)",
   "language": "python",
   "name": "python3"
  },
  "language_info": {
   "codemirror_mode": {
    "name": "ipython",
    "version": 3
   },
   "file_extension": ".py",
   "mimetype": "text/x-python",
   "name": "python",
   "nbconvert_exporter": "python",
   "pygments_lexer": "ipython3",
   "version": "3.13.5"
  }
 },
 "nbformat": 4,
 "nbformat_minor": 5
}
